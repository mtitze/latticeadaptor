{
 "cells": [
  {
   "cell_type": "markdown",
   "metadata": {},
   "source": [
    "# Tutorial"
   ]
  },
  {
   "cell_type": "code",
   "execution_count": 1,
   "metadata": {},
   "outputs": [],
   "source": [
    "from latticeadaptor.core import LatticeAdaptor"
   ]
  },
  {
   "cell_type": "markdown",
   "metadata": {},
   "source": [
    "## Properties"
   ]
  },
  {
   "cell_type": "code",
   "execution_count": 2,
   "metadata": {},
   "outputs": [
    {
     "data": {
      "text/plain": [
       "{'history': <queue.LifoQueue at 0x7fcd97c2e9a0>,\n",
       " 'name': None,\n",
       " 'len': 0.0,\n",
       " '_table': None,\n",
       " 'filename': None,\n",
       " 'inputstr': None,\n",
       " 'builder': <latticeconstructor.core.LatticeBuilderLine at 0x7fcd97c2e220>}"
      ]
     },
     "execution_count": 2,
     "metadata": {},
     "output_type": "execute_result"
    }
   ],
   "source": [
    "la = LatticeAdaptor()\n",
    "la.__dict__"
   ]
  },
  {
   "cell_type": "markdown",
   "metadata": {},
   "source": [
    "## Methods"
   ]
  },
  {
   "cell_type": "code",
   "execution_count": 3,
   "metadata": {},
   "outputs": [
    {
     "data": {
      "text/plain": [
       "['load_from_file',\n",
       " 'load_from_string',\n",
       " 'parse_table_to_madx_sequence_string',\n",
       " 'parse_table_to_madx_sequence_file',\n",
       " 'parse_table_to_elegant_string',\n",
       " 'parse_table_to_elegant_file',\n",
       " 'parse_table_to_tracy_string',\n",
       " 'parse_table_to_tracy_file',\n",
       " 'madx_sequence_add_start_end_marker_string',\n",
       " 'parse_table_to_madx_install_str',\n",
       " 'parse_table_to_madx_remove_str',\n",
       " 'madx_sequence_save_string',\n",
       " 'add_drifts',\n",
       " 'parse_table_to_madx_line_string',\n",
       " 'parse_table_to_madx_line_file',\n",
       " 'get_quad_strengths',\n",
       " 'get_sext_strengths',\n",
       " 'load_strengths_to_table',\n",
       " 'compare_seq_center_positions',\n",
       " 'update_table',\n",
       " 'undo']"
      ]
     },
     "execution_count": 3,
     "metadata": {},
     "output_type": "execute_result"
    }
   ],
   "source": [
    "from types import FunctionType\n",
    "[x for x, y in LatticeAdaptor.__dict__.items() if (type(y) == FunctionType) and not x.startswith('_')]"
   ]
  },
  {
   "cell_type": "markdown",
   "metadata": {},
   "source": [
    "## Load lattice from string"
   ]
  },
  {
   "cell_type": "markdown",
   "metadata": {},
   "source": [
    "Lattices can be loaded from string or from file. Currently two lattice formats are implemented:\n",
    "- lte\n",
    "- madx (both sequence and line def)"
   ]
  },
  {
   "cell_type": "code",
   "execution_count": 4,
   "metadata": {},
   "outputs": [
    {
     "name": "stdout",
     "output_type": "stream",
     "text": [
      "Length has been autoset - check if value is ok - otherwise update it.\n"
     ]
    }
   ],
   "source": [
    " latticestring = \"\"\"\n",
    "QF : QUADRUPOLE, L := 0.50 , K1 :=  1.00;\n",
    "QD : QUADRUPOLE, L := 1.00 , K1 := -1.00;\n",
    "D1 : DRIFT, L := 1.00;\n",
    "D2 : DRIFT, L := 1.00;\n",
    "\n",
    "FODO: SEQUENCE, L=4.00;\n",
    "QF, at = 0.25;\n",
    "D1, at = 1.00;\n",
    "QD, at = 2.00;\n",
    "D2, at = 3.00;\n",
    "QF, at = 3.75;\n",
    "ENDSEQUENCE;\n",
    "\"\"\"\n",
    "la1 = LatticeAdaptor()\n",
    "la1.load_from_string(latticestring, ftype='madx')"
   ]
  },
  {
   "cell_type": "code",
   "execution_count": 5,
   "metadata": {},
   "outputs": [
    {
     "data": {
      "text/plain": [
       "('FODO', 4.0)"
      ]
     },
     "execution_count": 5,
     "metadata": {},
     "output_type": "execute_result"
    }
   ],
   "source": [
    "la1.name, la1.len"
   ]
  },
  {
   "cell_type": "code",
   "execution_count": 6,
   "metadata": {},
   "outputs": [
    {
     "data": {
      "text/html": [
       "<div>\n",
       "<style scoped>\n",
       "    .dataframe tbody tr th:only-of-type {\n",
       "        vertical-align: middle;\n",
       "    }\n",
       "\n",
       "    .dataframe tbody tr th {\n",
       "        vertical-align: top;\n",
       "    }\n",
       "\n",
       "    .dataframe thead th {\n",
       "        text-align: right;\n",
       "    }\n",
       "</style>\n",
       "<table border=\"1\" class=\"dataframe\">\n",
       "  <thead>\n",
       "    <tr style=\"text-align: right;\">\n",
       "      <th></th>\n",
       "      <th>family</th>\n",
       "      <th>L</th>\n",
       "      <th>K1</th>\n",
       "      <th>name</th>\n",
       "      <th>at</th>\n",
       "    </tr>\n",
       "  </thead>\n",
       "  <tbody>\n",
       "    <tr>\n",
       "      <th>0</th>\n",
       "      <td>QUADRUPOLE</td>\n",
       "      <td>0.5</td>\n",
       "      <td>1.0</td>\n",
       "      <td>QF</td>\n",
       "      <td>0.25</td>\n",
       "    </tr>\n",
       "    <tr>\n",
       "      <th>1</th>\n",
       "      <td>DRIFT</td>\n",
       "      <td>1.0</td>\n",
       "      <td>NaN</td>\n",
       "      <td>D1</td>\n",
       "      <td>1.00</td>\n",
       "    </tr>\n",
       "    <tr>\n",
       "      <th>2</th>\n",
       "      <td>QUADRUPOLE</td>\n",
       "      <td>1.0</td>\n",
       "      <td>-1.0</td>\n",
       "      <td>QD</td>\n",
       "      <td>2.00</td>\n",
       "    </tr>\n",
       "    <tr>\n",
       "      <th>3</th>\n",
       "      <td>DRIFT</td>\n",
       "      <td>1.0</td>\n",
       "      <td>NaN</td>\n",
       "      <td>D2</td>\n",
       "      <td>3.00</td>\n",
       "    </tr>\n",
       "    <tr>\n",
       "      <th>4</th>\n",
       "      <td>QUADRUPOLE</td>\n",
       "      <td>0.5</td>\n",
       "      <td>1.0</td>\n",
       "      <td>QF</td>\n",
       "      <td>3.75</td>\n",
       "    </tr>\n",
       "  </tbody>\n",
       "</table>\n",
       "</div>"
      ],
      "text/plain": [
       "       family    L   K1 name    at\n",
       "0  QUADRUPOLE  0.5  1.0   QF  0.25\n",
       "1       DRIFT  1.0  NaN   D1  1.00\n",
       "2  QUADRUPOLE  1.0 -1.0   QD  2.00\n",
       "3       DRIFT  1.0  NaN   D2  3.00\n",
       "4  QUADRUPOLE  0.5  1.0   QF  3.75"
      ]
     },
     "execution_count": 6,
     "metadata": {},
     "output_type": "execute_result"
    }
   ],
   "source": [
    "la1.table"
   ]
  },
  {
   "cell_type": "markdown",
   "metadata": {},
   "source": [
    "## Load lattice from file"
   ]
  },
  {
   "cell_type": "code",
   "execution_count": 7,
   "metadata": {},
   "outputs": [
    {
     "name": "stdout",
     "output_type": "stream",
     "text": [
      "QF              : QUADRUPOLE  , L:=0.5, K1:=1.0;\n",
      "D1              : DRIFT       , L:=1.0;\n",
      "QD              : QUADRUPOLE  , L:=1.0, K1:=-1.0;\n",
      "D2              : DRIFT       , L:=1.0;\n",
      "FODO: SEQUENCE, L=4.0;\n",
      "QF         , at =     0.250000;\n",
      "D1         , at =     1.000000;\n",
      "QD         , at =     2.000000;\n",
      "D2         , at =     3.000000;\n",
      "QF         , at =     3.750000;\n",
      "ENDSEQUENCE;\n"
     ]
    }
   ],
   "source": [
    "# first write it to file\n",
    "la1.parse_table_to_madx_sequence_file('lattice.seq')\n",
    "\n",
    "# check if written ok\n",
    "with open('lattice.seq','r') as f:\n",
    "    dat = f.read()\n",
    "    \n",
    "print(dat)"
   ]
  },
  {
   "cell_type": "code",
   "execution_count": 8,
   "metadata": {},
   "outputs": [
    {
     "name": "stdout",
     "output_type": "stream",
     "text": [
      "Length has been autoset - check if value is ok - otherwise update it.\n"
     ]
    },
    {
     "data": {
      "text/html": [
       "<div>\n",
       "<style scoped>\n",
       "    .dataframe tbody tr th:only-of-type {\n",
       "        vertical-align: middle;\n",
       "    }\n",
       "\n",
       "    .dataframe tbody tr th {\n",
       "        vertical-align: top;\n",
       "    }\n",
       "\n",
       "    .dataframe thead th {\n",
       "        text-align: right;\n",
       "    }\n",
       "</style>\n",
       "<table border=\"1\" class=\"dataframe\">\n",
       "  <thead>\n",
       "    <tr style=\"text-align: right;\">\n",
       "      <th></th>\n",
       "      <th>family</th>\n",
       "      <th>L</th>\n",
       "      <th>K1</th>\n",
       "      <th>name</th>\n",
       "      <th>at</th>\n",
       "    </tr>\n",
       "  </thead>\n",
       "  <tbody>\n",
       "    <tr>\n",
       "      <th>0</th>\n",
       "      <td>QUADRUPOLE</td>\n",
       "      <td>0.5</td>\n",
       "      <td>1.0</td>\n",
       "      <td>QF</td>\n",
       "      <td>0.25</td>\n",
       "    </tr>\n",
       "    <tr>\n",
       "      <th>1</th>\n",
       "      <td>DRIFT</td>\n",
       "      <td>1.0</td>\n",
       "      <td>NaN</td>\n",
       "      <td>D1</td>\n",
       "      <td>1.00</td>\n",
       "    </tr>\n",
       "    <tr>\n",
       "      <th>2</th>\n",
       "      <td>QUADRUPOLE</td>\n",
       "      <td>1.0</td>\n",
       "      <td>-1.0</td>\n",
       "      <td>QD</td>\n",
       "      <td>2.00</td>\n",
       "    </tr>\n",
       "    <tr>\n",
       "      <th>3</th>\n",
       "      <td>DRIFT</td>\n",
       "      <td>1.0</td>\n",
       "      <td>NaN</td>\n",
       "      <td>D2</td>\n",
       "      <td>3.00</td>\n",
       "    </tr>\n",
       "    <tr>\n",
       "      <th>4</th>\n",
       "      <td>QUADRUPOLE</td>\n",
       "      <td>0.5</td>\n",
       "      <td>1.0</td>\n",
       "      <td>QF</td>\n",
       "      <td>3.75</td>\n",
       "    </tr>\n",
       "  </tbody>\n",
       "</table>\n",
       "</div>"
      ],
      "text/plain": [
       "       family    L   K1 name    at\n",
       "0  QUADRUPOLE  0.5  1.0   QF  0.25\n",
       "1       DRIFT  1.0  NaN   D1  1.00\n",
       "2  QUADRUPOLE  1.0 -1.0   QD  2.00\n",
       "3       DRIFT  1.0  NaN   D2  3.00\n",
       "4  QUADRUPOLE  0.5  1.0   QF  3.75"
      ]
     },
     "execution_count": 8,
     "metadata": {},
     "output_type": "execute_result"
    }
   ],
   "source": [
    "la3 = LatticeAdaptor()\n",
    "la3.load_from_file('lattice.seq',ftype='madx')\n",
    "la3.table"
   ]
  },
  {
   "cell_type": "markdown",
   "metadata": {},
   "source": [
    "## Create lattice manually"
   ]
  },
  {
   "cell_type": "markdown",
   "metadata": {},
   "source": [
    "Lattice can also be created manually by defining:\n",
    "- lattice name\n",
    "- lattice length\n",
    "- lattice table as data frame"
   ]
  },
  {
   "cell_type": "code",
   "execution_count": 9,
   "metadata": {},
   "outputs": [
    {
     "data": {
      "text/html": [
       "<div>\n",
       "<style scoped>\n",
       "    .dataframe tbody tr th:only-of-type {\n",
       "        vertical-align: middle;\n",
       "    }\n",
       "\n",
       "    .dataframe tbody tr th {\n",
       "        vertical-align: top;\n",
       "    }\n",
       "\n",
       "    .dataframe thead th {\n",
       "        text-align: right;\n",
       "    }\n",
       "</style>\n",
       "<table border=\"1\" class=\"dataframe\">\n",
       "  <thead>\n",
       "    <tr style=\"text-align: right;\">\n",
       "      <th></th>\n",
       "      <th>name</th>\n",
       "      <th>pos</th>\n",
       "      <th>family</th>\n",
       "      <th>L</th>\n",
       "      <th>K1</th>\n",
       "      <th>ANGLE</th>\n",
       "      <th>at</th>\n",
       "    </tr>\n",
       "  </thead>\n",
       "  <tbody>\n",
       "    <tr>\n",
       "      <th>0</th>\n",
       "      <td>QF</td>\n",
       "      <td>0.25</td>\n",
       "      <td>QUADRUPOLE</td>\n",
       "      <td>0.5</td>\n",
       "      <td>1.0</td>\n",
       "      <td>0.0</td>\n",
       "      <td>0.25</td>\n",
       "    </tr>\n",
       "    <tr>\n",
       "      <th>1</th>\n",
       "      <td>D1</td>\n",
       "      <td>1.00</td>\n",
       "      <td>DRIFT</td>\n",
       "      <td>1.0</td>\n",
       "      <td>NaN</td>\n",
       "      <td>NaN</td>\n",
       "      <td>1.00</td>\n",
       "    </tr>\n",
       "    <tr>\n",
       "      <th>2</th>\n",
       "      <td>QD</td>\n",
       "      <td>2.00</td>\n",
       "      <td>QUADRUPOLE</td>\n",
       "      <td>1.0</td>\n",
       "      <td>-1.0</td>\n",
       "      <td>NaN</td>\n",
       "      <td>2.00</td>\n",
       "    </tr>\n",
       "    <tr>\n",
       "      <th>3</th>\n",
       "      <td>D2</td>\n",
       "      <td>3.00</td>\n",
       "      <td>DRIFT</td>\n",
       "      <td>1.0</td>\n",
       "      <td>NaN</td>\n",
       "      <td>NaN</td>\n",
       "      <td>3.00</td>\n",
       "    </tr>\n",
       "    <tr>\n",
       "      <th>4</th>\n",
       "      <td>QF</td>\n",
       "      <td>3.75</td>\n",
       "      <td>QUADRUPOLE</td>\n",
       "      <td>0.5</td>\n",
       "      <td>1.0</td>\n",
       "      <td>0.0</td>\n",
       "      <td>3.75</td>\n",
       "    </tr>\n",
       "  </tbody>\n",
       "</table>\n",
       "</div>"
      ],
      "text/plain": [
       "  name   pos      family    L   K1  ANGLE    at\n",
       "0   QF  0.25  QUADRUPOLE  0.5  1.0    0.0  0.25\n",
       "1   D1  1.00       DRIFT  1.0  NaN    NaN  1.00\n",
       "2   QD  2.00  QUADRUPOLE  1.0 -1.0    NaN  2.00\n",
       "3   D2  3.00       DRIFT  1.0  NaN    NaN  3.00\n",
       "4   QF  3.75  QUADRUPOLE  0.5  1.0    0.0  3.75"
      ]
     },
     "execution_count": 9,
     "metadata": {},
     "output_type": "execute_result"
    }
   ],
   "source": [
    "import pandas as pd\n",
    "\n",
    "# create manually\n",
    "latticename = 'FODO'\n",
    "latticelen  = 4.00\n",
    "latticetable = pd.DataFrame([\n",
    "    {'name': 'QF','pos': 0.25,'family': 'QUADRUPOLE','L': 0.5,'K1': 1.0,'ANGLE': 0.0,'at': 0.25},\n",
    "    {'name': 'D1','pos': 1.0,'family': 'DRIFT','L': 1.0,'at': 1.0},\n",
    "    {'name': 'QD','pos': 2.0,'family': 'QUADRUPOLE','L': 1.0,'K1': -1.0,'at': 2.0},\n",
    "    {'name': 'D2','pos': 3.0,'family': 'DRIFT','L': 1.0,'at': 3.0},\n",
    "    {'name': 'QF','pos': 3.75,'family': 'QUADRUPOLE','L': 0.5,'K1': 1.0,'ANGLE': 0.0,'at': 3.75}\n",
    "    ])\n",
    "\n",
    "# uplaod it to the latticeadaptor object\n",
    "la2 = LatticeAdaptor()\n",
    "la2.name  = latticename\n",
    "la2.len   = latticelen\n",
    "la2.table = latticetable\n",
    "\n",
    "la2.table"
   ]
  },
  {
   "cell_type": "markdown",
   "metadata": {},
   "source": [
    "## Convert table to lattice format"
   ]
  },
  {
   "cell_type": "markdown",
   "metadata": {},
   "source": [
    "### MADX Sequence"
   ]
  },
  {
   "cell_type": "code",
   "execution_count": 10,
   "metadata": {},
   "outputs": [
    {
     "name": "stdout",
     "output_type": "stream",
     "text": [
      "QF              : QUADRUPOLE  , L:=0.5, K1:=1.0;\n",
      "D1              : DRIFT       , L:=1.0;\n",
      "QD              : QUADRUPOLE  , L:=1.0, K1:=-1.0;\n",
      "D2              : DRIFT       , L:=1.0;\n",
      "FODO: SEQUENCE, L=4.0;\n",
      "QF         , at =     0.250000;\n",
      "D1         , at =     1.000000;\n",
      "QD         , at =     2.000000;\n",
      "D2         , at =     3.000000;\n",
      "QF         , at =     3.750000;\n",
      "ENDSEQUENCE;\n"
     ]
    }
   ],
   "source": [
    "print(la1.parse_table_to_madx_sequence_string())"
   ]
  },
  {
   "cell_type": "code",
   "execution_count": 11,
   "metadata": {},
   "outputs": [
    {
     "name": "stdout",
     "output_type": "stream",
     "text": [
      "QF              : QUADRUPOLE  , L:=0.5, K1:=1.0, ;\n",
      "D1              : DRIFT       , L:=1.0;\n",
      "QD              : QUADRUPOLE  , L:=1.0, K1:=-1.0;\n",
      "D2              : DRIFT       , L:=1.0;\n",
      "FODO: SEQUENCE, L=4.0;\n",
      "QF         , at =     0.250000;\n",
      "D1         , at =     1.000000;\n",
      "QD         , at =     2.000000;\n",
      "D2         , at =     3.000000;\n",
      "QF         , at =     3.750000;\n",
      "ENDSEQUENCE;\n"
     ]
    }
   ],
   "source": [
    "print(la2.parse_table_to_madx_sequence_string())"
   ]
  },
  {
   "cell_type": "code",
   "execution_count": 12,
   "metadata": {},
   "outputs": [],
   "source": [
    "#save to file\n",
    "la1.parse_table_to_madx_sequence_file('lattice.seq')"
   ]
  },
  {
   "cell_type": "markdown",
   "metadata": {},
   "source": [
    "### MADX Line"
   ]
  },
  {
   "cell_type": "code",
   "execution_count": 13,
   "metadata": {},
   "outputs": [
    {
     "name": "stdout",
     "output_type": "stream",
     "text": [
      "QF              : QUADRUPOLE  , L:=0.5, K1:=1.0;\n",
      "D1              : DRIFT       , L:=1.0;\n",
      "QD              : QUADRUPOLE  , L:=1.0, K1:=-1.0;\n",
      "D2              : DRIFT       , L:=1.0;\n",
      "FODO: SEQUENCE, L=4.0;\n",
      "QF         , at =     0.250000;\n",
      "D1         , at =     1.000000;\n",
      "QD         , at =     2.000000;\n",
      "D2         , at =     3.000000;\n",
      "QF         , at =     3.750000;\n",
      "ENDSEQUENCE;\n"
     ]
    }
   ],
   "source": [
    "print(la1.parse_table_to_madx_sequence_string())"
   ]
  },
  {
   "cell_type": "code",
   "execution_count": 14,
   "metadata": {},
   "outputs": [
    {
     "name": "stdout",
     "output_type": "stream",
     "text": [
      "QF              : QUADRUPOLE  , L:=0.5, K1:=1.0;\n",
      "D1              : DRIFT       , L:=1.0;\n",
      "QD              : QUADRUPOLE  , L:=1.0, K1:=-1.0;\n",
      "D2              : DRIFT       , L:=1.0;\n",
      "\n",
      "\n",
      "FODO: LINE=(QF,D1,QD,D2,QF);\n"
     ]
    }
   ],
   "source": [
    "la1.parse_table_to_madx_line_file('lattice.madx')\n",
    "with open('lattice.madx','r') as f:\n",
    "    dat = f.read()\n",
    "print(dat)"
   ]
  },
  {
   "cell_type": "code",
   "execution_count": 15,
   "metadata": {},
   "outputs": [
    {
     "name": "stdout",
     "output_type": "stream",
     "text": [
      "Length has been autoset - check if value is ok - otherwise update it.\n"
     ]
    },
    {
     "data": {
      "text/html": [
       "<div>\n",
       "<style scoped>\n",
       "    .dataframe tbody tr th:only-of-type {\n",
       "        vertical-align: middle;\n",
       "    }\n",
       "\n",
       "    .dataframe tbody tr th {\n",
       "        vertical-align: top;\n",
       "    }\n",
       "\n",
       "    .dataframe thead th {\n",
       "        text-align: right;\n",
       "    }\n",
       "</style>\n",
       "<table border=\"1\" class=\"dataframe\">\n",
       "  <thead>\n",
       "    <tr style=\"text-align: right;\">\n",
       "      <th></th>\n",
       "      <th>family</th>\n",
       "      <th>L</th>\n",
       "      <th>K1</th>\n",
       "      <th>name</th>\n",
       "      <th>at</th>\n",
       "    </tr>\n",
       "  </thead>\n",
       "  <tbody>\n",
       "    <tr>\n",
       "      <th>0</th>\n",
       "      <td>QUADRUPOLE</td>\n",
       "      <td>0.5</td>\n",
       "      <td>1.0</td>\n",
       "      <td>QF</td>\n",
       "      <td>0.25</td>\n",
       "    </tr>\n",
       "    <tr>\n",
       "      <th>1</th>\n",
       "      <td>QUADRUPOLE</td>\n",
       "      <td>1.0</td>\n",
       "      <td>-1.0</td>\n",
       "      <td>QD</td>\n",
       "      <td>2.00</td>\n",
       "    </tr>\n",
       "    <tr>\n",
       "      <th>2</th>\n",
       "      <td>QUADRUPOLE</td>\n",
       "      <td>0.5</td>\n",
       "      <td>1.0</td>\n",
       "      <td>QF</td>\n",
       "      <td>3.75</td>\n",
       "    </tr>\n",
       "  </tbody>\n",
       "</table>\n",
       "</div>"
      ],
      "text/plain": [
       "       family    L   K1 name    at\n",
       "0  QUADRUPOLE  0.5  1.0   QF  0.25\n",
       "1  QUADRUPOLE  1.0 -1.0   QD  2.00\n",
       "2  QUADRUPOLE  0.5  1.0   QF  3.75"
      ]
     },
     "execution_count": 15,
     "metadata": {},
     "output_type": "execute_result"
    }
   ],
   "source": [
    " latticestring = \"\"\"\n",
    "QF : QUADRUPOLE, L := 0.50 , K1 :=  1.00;\n",
    "QD : QUADRUPOLE, L := 1.00 , K1 := -1.00;\n",
    "D1 : DRIFT, L := 1.00;\n",
    "D2 : DRIFT, L := 1.00;\n",
    "\n",
    "FODO: SEQUENCE, L=4.00;\n",
    "QF, at = 0.25;\n",
    "QD, at = 2.00;\n",
    "QF, at = 3.75;\n",
    "ENDSEQUENCE;\n",
    "\"\"\"\n",
    "la4 = LatticeAdaptor()\n",
    "la4.load_from_string(latticestring, ftype='madx')\n",
    "la4.table"
   ]
  },
  {
   "cell_type": "code",
   "execution_count": 16,
   "metadata": {},
   "outputs": [
    {
     "name": "stdout",
     "output_type": "stream",
     "text": [
      "QF              : QUADRUPOLE  , L:=0.5, K1:=1.0;\n",
      "D1              : DRIFT       , L:=1.0;\n",
      "QD              : QUADRUPOLE  , L:=1.0, K1:=-1.0;\n",
      "D2              : DRIFT       , L:=1.0;\n",
      "\n",
      "\n",
      "FODO: LINE=(QF,D1,QD,D2,QF);\n"
     ]
    }
   ],
   "source": [
    "la4.parse_table_to_madx_line_file('lattice.madx')\n",
    "with open('lattice.madx','r') as f:\n",
    "    dat = f.read()\n",
    "print(dat)"
   ]
  },
  {
   "cell_type": "code",
   "execution_count": 17,
   "metadata": {},
   "outputs": [
    {
     "data": {
      "text/plain": [
       "\"SAVE, SEQUENCE=FODO, file='test.seq';\""
      ]
     },
     "execution_count": 17,
     "metadata": {},
     "output_type": "execute_result"
    }
   ],
   "source": [
    "# generate madx inputstring to save sequence file\n",
    "la1.madx_sequence_save_string('test.seq')"
   ]
  },
  {
   "cell_type": "markdown",
   "metadata": {},
   "source": [
    "### Elegant"
   ]
  },
  {
   "cell_type": "code",
   "execution_count": 18,
   "metadata": {},
   "outputs": [
    {
     "name": "stdout",
     "output_type": "stream",
     "text": [
      "Length has been autoset - check if value is ok - otherwise update it.\n"
     ]
    }
   ],
   "source": [
    "latticestring = \"\"\"\n",
    "QF : QUADRUPOLE, L := 0.50 , K1 :=  1.00;\n",
    "QD : QUADRUPOLE, L := 1.00 , K1 := -1.00;\n",
    "\n",
    "\n",
    "FODO: SEQUENCE, L=4.00;\n",
    "QF, at = 0.25;\n",
    "QD, at = 2.00;\n",
    "QF, at = 3.75;\n",
    "ENDSEQUENCE;\n",
    "\"\"\"\n",
    "la = LatticeAdaptor()\n",
    "la.load_from_string(latticestring,ftype='madx')"
   ]
  },
  {
   "cell_type": "code",
   "execution_count": 19,
   "metadata": {},
   "outputs": [
    {
     "data": {
      "text/html": [
       "<div>\n",
       "<style scoped>\n",
       "    .dataframe tbody tr th:only-of-type {\n",
       "        vertical-align: middle;\n",
       "    }\n",
       "\n",
       "    .dataframe tbody tr th {\n",
       "        vertical-align: top;\n",
       "    }\n",
       "\n",
       "    .dataframe thead th {\n",
       "        text-align: right;\n",
       "    }\n",
       "</style>\n",
       "<table border=\"1\" class=\"dataframe\">\n",
       "  <thead>\n",
       "    <tr style=\"text-align: right;\">\n",
       "      <th></th>\n",
       "      <th>family</th>\n",
       "      <th>L</th>\n",
       "      <th>K1</th>\n",
       "      <th>name</th>\n",
       "      <th>at</th>\n",
       "    </tr>\n",
       "  </thead>\n",
       "  <tbody>\n",
       "    <tr>\n",
       "      <th>0</th>\n",
       "      <td>QUADRUPOLE</td>\n",
       "      <td>0.5</td>\n",
       "      <td>1.0</td>\n",
       "      <td>QF</td>\n",
       "      <td>0.25</td>\n",
       "    </tr>\n",
       "    <tr>\n",
       "      <th>1</th>\n",
       "      <td>QUADRUPOLE</td>\n",
       "      <td>1.0</td>\n",
       "      <td>-1.0</td>\n",
       "      <td>QD</td>\n",
       "      <td>2.00</td>\n",
       "    </tr>\n",
       "    <tr>\n",
       "      <th>2</th>\n",
       "      <td>QUADRUPOLE</td>\n",
       "      <td>0.5</td>\n",
       "      <td>1.0</td>\n",
       "      <td>QF</td>\n",
       "      <td>3.75</td>\n",
       "    </tr>\n",
       "  </tbody>\n",
       "</table>\n",
       "</div>"
      ],
      "text/plain": [
       "       family    L   K1 name    at\n",
       "0  QUADRUPOLE  0.5  1.0   QF  0.25\n",
       "1  QUADRUPOLE  1.0 -1.0   QD  2.00\n",
       "2  QUADRUPOLE  0.5  1.0   QF  3.75"
      ]
     },
     "execution_count": 19,
     "metadata": {},
     "output_type": "execute_result"
    }
   ],
   "source": [
    "la.table"
   ]
  },
  {
   "cell_type": "code",
   "execution_count": 20,
   "metadata": {},
   "outputs": [
    {
     "name": "stdout",
     "output_type": "stream",
     "text": [
      "QF              : KQUAD       , L=  0.500000000000, K1=  1.000000000000\n",
      "D1              : DRIF        , L=  1.000000000000\n",
      "QD              : KQUAD       , L=  1.000000000000, K1= -1.000000000000\n",
      "D2              : DRIF        , L=  1.000000000000\n",
      "\n",
      "\n",
      "FODO: LINE=(QF, D1, QD, D2, QF)\n"
     ]
    }
   ],
   "source": [
    "print(la.parse_table_to_elegant_string())"
   ]
  },
  {
   "cell_type": "code",
   "execution_count": 21,
   "metadata": {},
   "outputs": [
    {
     "name": "stdout",
     "output_type": "stream",
     "text": [
      "QF              : KQUAD       , L=  0.500000000000, K1=  1.000000000000\n",
      "D1              : DRIF        , L=  1.000000000000\n",
      "QD              : KQUAD       , L=  1.000000000000, K1= -1.000000000000\n",
      "D2              : DRIF        , L=  1.000000000000\n",
      "\n",
      "\n",
      "FODO: LINE=(QF, D1, QD, D2, QF)\n"
     ]
    }
   ],
   "source": [
    "la.parse_table_to_elegant_file('lattice.lte')\n",
    "with open('lattice.lte','r') as f:\n",
    "    dat = f.read()\n",
    "print(dat)"
   ]
  },
  {
   "cell_type": "markdown",
   "metadata": {},
   "source": [
    "### Tracy"
   ]
  },
  {
   "cell_type": "code",
   "execution_count": 22,
   "metadata": {},
   "outputs": [
    {
     "name": "stdout",
     "output_type": "stream",
     "text": [
      "QF: Quadrupole, L = 0.500000, K = 1.000000, N = Nquad, Method = 4;\n",
      "D1: Drift, L = 1.0;\n",
      "QD: Quadrupole, L = 1.000000, K = -1.000000, N = Nquad, Method = 4;\n",
      "D2: Drift, L = 1.0;\n",
      "\n",
      "\n",
      "FODO: QF, D1, QD, D2, QF;\n",
      "\n",
      "ring: FODO;\n",
      "\n",
      "cell: ring, symmetry = 1;\n",
      "\n",
      "end;\n"
     ]
    }
   ],
   "source": [
    "print(la1.parse_table_to_tracy_string())"
   ]
  },
  {
   "cell_type": "code",
   "execution_count": 23,
   "metadata": {},
   "outputs": [
    {
     "name": "stdout",
     "output_type": "stream",
     "text": [
      "QF: Quadrupole, L = 0.500000, K = 1.000000, N = Nquad, Method = 4;\n",
      "D1: Drift, L = 1.0;\n",
      "QD: Quadrupole, L = 1.000000, K = -1.000000, N = Nquad, Method = 4;\n",
      "D2: Drift, L = 1.0;\n",
      "\n",
      "\n",
      "FODO: QF, D1, QD, D2, QF;\n",
      "\n",
      "ring: FODO;\n",
      "\n",
      "cell: ring, symmetry = 1;\n",
      "\n",
      "end;\n"
     ]
    }
   ],
   "source": [
    "la1.parse_table_to_tracy_file('lattice.lat')\n",
    "with open('lattice.lat','r') as f:\n",
    "    dat = f.read()\n",
    "    \n",
    "print(dat)"
   ]
  },
  {
   "cell_type": "markdown",
   "metadata": {},
   "source": [
    "## Lattice operations"
   ]
  },
  {
   "cell_type": "markdown",
   "metadata": {},
   "source": [
    "### Install string for markers at start and end of lattice"
   ]
  },
  {
   "cell_type": "code",
   "execution_count": 24,
   "metadata": {},
   "outputs": [
    {
     "data": {
      "text/html": [
       "<div>\n",
       "<style scoped>\n",
       "    .dataframe tbody tr th:only-of-type {\n",
       "        vertical-align: middle;\n",
       "    }\n",
       "\n",
       "    .dataframe tbody tr th {\n",
       "        vertical-align: top;\n",
       "    }\n",
       "\n",
       "    .dataframe thead th {\n",
       "        text-align: right;\n",
       "    }\n",
       "</style>\n",
       "<table border=\"1\" class=\"dataframe\">\n",
       "  <thead>\n",
       "    <tr style=\"text-align: right;\">\n",
       "      <th></th>\n",
       "      <th>family</th>\n",
       "      <th>L</th>\n",
       "      <th>K1</th>\n",
       "      <th>name</th>\n",
       "      <th>at</th>\n",
       "      <th>pos</th>\n",
       "    </tr>\n",
       "  </thead>\n",
       "  <tbody>\n",
       "    <tr>\n",
       "      <th>0</th>\n",
       "      <td>QUADRUPOLE</td>\n",
       "      <td>0.5</td>\n",
       "      <td>1.0</td>\n",
       "      <td>QF</td>\n",
       "      <td>0.25</td>\n",
       "      <td>0.25</td>\n",
       "    </tr>\n",
       "    <tr>\n",
       "      <th>1</th>\n",
       "      <td>DRIFT</td>\n",
       "      <td>1.0</td>\n",
       "      <td>NaN</td>\n",
       "      <td>D1</td>\n",
       "      <td>1.0</td>\n",
       "      <td>1.0</td>\n",
       "    </tr>\n",
       "    <tr>\n",
       "      <th>2</th>\n",
       "      <td>QUADRUPOLE</td>\n",
       "      <td>1.0</td>\n",
       "      <td>-1.0</td>\n",
       "      <td>QD</td>\n",
       "      <td>2.0</td>\n",
       "      <td>2.0</td>\n",
       "    </tr>\n",
       "    <tr>\n",
       "      <th>3</th>\n",
       "      <td>DRIFT</td>\n",
       "      <td>1.0</td>\n",
       "      <td>NaN</td>\n",
       "      <td>D2</td>\n",
       "      <td>3.0</td>\n",
       "      <td>3.0</td>\n",
       "    </tr>\n",
       "    <tr>\n",
       "      <th>4</th>\n",
       "      <td>QUADRUPOLE</td>\n",
       "      <td>0.5</td>\n",
       "      <td>1.0</td>\n",
       "      <td>QF</td>\n",
       "      <td>3.75</td>\n",
       "      <td>3.75</td>\n",
       "    </tr>\n",
       "  </tbody>\n",
       "</table>\n",
       "</div>"
      ],
      "text/plain": [
       "       family    L   K1 name    at   pos\n",
       "0  QUADRUPOLE  0.5  1.0   QF  0.25  0.25\n",
       "1       DRIFT  1.0  NaN   D1   1.0   1.0\n",
       "2  QUADRUPOLE  1.0 -1.0   QD   2.0   2.0\n",
       "3       DRIFT  1.0  NaN   D2   3.0   3.0\n",
       "4  QUADRUPOLE  0.5  1.0   QF  3.75  3.75"
      ]
     },
     "execution_count": 24,
     "metadata": {},
     "output_type": "execute_result"
    }
   ],
   "source": [
    "la1.table"
   ]
  },
  {
   "cell_type": "code",
   "execution_count": 25,
   "metadata": {},
   "outputs": [
    {
     "name": "stdout",
     "output_type": "stream",
     "text": [
      "MSTART      : MARKER      ;\n",
      "MEND        : MARKER      ;\n",
      "\n",
      "USE, SEQUENCE=FODO;\n",
      "SEQEDIT, SEQUENCE = FODO;  \n",
      "FLATTEN;\n",
      "INSTALL, ELEMENT = MSTART          , AT =     0.000000;\n",
      "INSTALL, ELEMENT = MEND            , AT =     4.000000;\n",
      "FLATTEN;\n",
      "ENDEDIT;\n"
     ]
    }
   ],
   "source": [
    "print(la1.madx_sequence_add_start_end_marker_string())"
   ]
  },
  {
   "cell_type": "markdown",
   "metadata": {},
   "source": [
    "### Add drifts back to sequence"
   ]
  },
  {
   "cell_type": "code",
   "execution_count": 26,
   "metadata": {},
   "outputs": [
    {
     "name": "stdout",
     "output_type": "stream",
     "text": [
      "Length has been autoset - check if value is ok - otherwise update it.\n"
     ]
    },
    {
     "data": {
      "text/html": [
       "<div>\n",
       "<style scoped>\n",
       "    .dataframe tbody tr th:only-of-type {\n",
       "        vertical-align: middle;\n",
       "    }\n",
       "\n",
       "    .dataframe tbody tr th {\n",
       "        vertical-align: top;\n",
       "    }\n",
       "\n",
       "    .dataframe thead th {\n",
       "        text-align: right;\n",
       "    }\n",
       "</style>\n",
       "<table border=\"1\" class=\"dataframe\">\n",
       "  <thead>\n",
       "    <tr style=\"text-align: right;\">\n",
       "      <th></th>\n",
       "      <th>family</th>\n",
       "      <th>L</th>\n",
       "      <th>K1</th>\n",
       "      <th>name</th>\n",
       "      <th>at</th>\n",
       "    </tr>\n",
       "  </thead>\n",
       "  <tbody>\n",
       "    <tr>\n",
       "      <th>0</th>\n",
       "      <td>QUADRUPOLE</td>\n",
       "      <td>0.5</td>\n",
       "      <td>1.0</td>\n",
       "      <td>QF</td>\n",
       "      <td>0.25</td>\n",
       "    </tr>\n",
       "    <tr>\n",
       "      <th>1</th>\n",
       "      <td>QUADRUPOLE</td>\n",
       "      <td>1.0</td>\n",
       "      <td>-1.0</td>\n",
       "      <td>QD</td>\n",
       "      <td>2.00</td>\n",
       "    </tr>\n",
       "    <tr>\n",
       "      <th>2</th>\n",
       "      <td>QUADRUPOLE</td>\n",
       "      <td>0.5</td>\n",
       "      <td>1.0</td>\n",
       "      <td>QF</td>\n",
       "      <td>3.75</td>\n",
       "    </tr>\n",
       "  </tbody>\n",
       "</table>\n",
       "</div>"
      ],
      "text/plain": [
       "       family    L   K1 name    at\n",
       "0  QUADRUPOLE  0.5  1.0   QF  0.25\n",
       "1  QUADRUPOLE  1.0 -1.0   QD  2.00\n",
       "2  QUADRUPOLE  0.5  1.0   QF  3.75"
      ]
     },
     "execution_count": 26,
     "metadata": {},
     "output_type": "execute_result"
    }
   ],
   "source": [
    " latticestring = \"\"\"\n",
    "QF : QUADRUPOLE, L := 0.50 , K1 :=  1.00;\n",
    "QD : QUADRUPOLE, L := 1.00 , K1 := -1.00;\n",
    "D1 : DRIFT, L := 1.00;\n",
    "D2 : DRIFT, L := 1.00;\n",
    "\n",
    "FODO: SEQUENCE, L=4.00;\n",
    "QF, at = 0.25;\n",
    "QD, at = 2.00;\n",
    "QF, at = 3.75;\n",
    "ENDSEQUENCE;\n",
    "\"\"\"\n",
    "la4 = LatticeAdaptor()\n",
    "la4.load_from_string(latticestring, ftype='madx')\n",
    "la4.table"
   ]
  },
  {
   "cell_type": "code",
   "execution_count": 27,
   "metadata": {},
   "outputs": [
    {
     "data": {
      "text/html": [
       "<div>\n",
       "<style scoped>\n",
       "    .dataframe tbody tr th:only-of-type {\n",
       "        vertical-align: middle;\n",
       "    }\n",
       "\n",
       "    .dataframe tbody tr th {\n",
       "        vertical-align: top;\n",
       "    }\n",
       "\n",
       "    .dataframe thead th {\n",
       "        text-align: right;\n",
       "    }\n",
       "</style>\n",
       "<table border=\"1\" class=\"dataframe\">\n",
       "  <thead>\n",
       "    <tr style=\"text-align: right;\">\n",
       "      <th></th>\n",
       "      <th>family</th>\n",
       "      <th>L</th>\n",
       "      <th>K1</th>\n",
       "      <th>name</th>\n",
       "      <th>at</th>\n",
       "      <th>pos</th>\n",
       "    </tr>\n",
       "  </thead>\n",
       "  <tbody>\n",
       "    <tr>\n",
       "      <th>0</th>\n",
       "      <td>QUADRUPOLE</td>\n",
       "      <td>0.5</td>\n",
       "      <td>1.0</td>\n",
       "      <td>QF</td>\n",
       "      <td>0.25</td>\n",
       "      <td>0.25</td>\n",
       "    </tr>\n",
       "    <tr>\n",
       "      <th>1</th>\n",
       "      <td>DRIFT</td>\n",
       "      <td>1.0</td>\n",
       "      <td>NaN</td>\n",
       "      <td>D1</td>\n",
       "      <td>NaN</td>\n",
       "      <td>1.0</td>\n",
       "    </tr>\n",
       "    <tr>\n",
       "      <th>2</th>\n",
       "      <td>QUADRUPOLE</td>\n",
       "      <td>1.0</td>\n",
       "      <td>-1.0</td>\n",
       "      <td>QD</td>\n",
       "      <td>2.0</td>\n",
       "      <td>2.0</td>\n",
       "    </tr>\n",
       "    <tr>\n",
       "      <th>3</th>\n",
       "      <td>DRIFT</td>\n",
       "      <td>1.0</td>\n",
       "      <td>NaN</td>\n",
       "      <td>D2</td>\n",
       "      <td>NaN</td>\n",
       "      <td>3.0</td>\n",
       "    </tr>\n",
       "    <tr>\n",
       "      <th>4</th>\n",
       "      <td>QUADRUPOLE</td>\n",
       "      <td>0.5</td>\n",
       "      <td>1.0</td>\n",
       "      <td>QF</td>\n",
       "      <td>3.75</td>\n",
       "      <td>3.75</td>\n",
       "    </tr>\n",
       "  </tbody>\n",
       "</table>\n",
       "</div>"
      ],
      "text/plain": [
       "       family    L   K1 name    at   pos\n",
       "0  QUADRUPOLE  0.5  1.0   QF  0.25  0.25\n",
       "1       DRIFT  1.0  NaN   D1   NaN   1.0\n",
       "2  QUADRUPOLE  1.0 -1.0   QD   2.0   2.0\n",
       "3       DRIFT  1.0  NaN   D2   NaN   3.0\n",
       "4  QUADRUPOLE  0.5  1.0   QF  3.75  3.75"
      ]
     },
     "execution_count": 27,
     "metadata": {},
     "output_type": "execute_result"
    }
   ],
   "source": [
    "la4.add_drifts()\n",
    "la4.table"
   ]
  },
  {
   "cell_type": "markdown",
   "metadata": {},
   "source": [
    "### Extract settings"
   ]
  },
  {
   "cell_type": "code",
   "execution_count": 28,
   "metadata": {},
   "outputs": [
    {
     "data": {
      "text/plain": [
       "{'QF': 1.0, 'QD': -1.0}"
      ]
     },
     "execution_count": 28,
     "metadata": {},
     "output_type": "execute_result"
    }
   ],
   "source": [
    "la1.get_quad_strengths()"
   ]
  },
  {
   "cell_type": "code",
   "execution_count": 29,
   "metadata": {},
   "outputs": [
    {
     "data": {
      "text/plain": [
       "{}"
      ]
     },
     "execution_count": 29,
     "metadata": {},
     "output_type": "execute_result"
    }
   ],
   "source": [
    "la1.get_sext_strengths()"
   ]
  },
  {
   "cell_type": "markdown",
   "metadata": {},
   "source": [
    "### Load settings"
   ]
  },
  {
   "cell_type": "code",
   "execution_count": 30,
   "metadata": {},
   "outputs": [],
   "source": [
    "from latticeadaptor.utils import highlight_cells"
   ]
  },
  {
   "cell_type": "code",
   "execution_count": 31,
   "metadata": {},
   "outputs": [
    {
     "data": {
      "text/html": [
       "<style  type=\"text/css\" >\n",
       "#T_f2baa_row0_col2,#T_f2baa_row4_col2{\n",
       "            background-color:  lightgreen;\n",
       "        }</style><table id=\"T_f2baa_\" ><thead>    <tr>        <th class=\"blank level0\" ></th>        <th class=\"col_heading level0 col0\" >family</th>        <th class=\"col_heading level0 col1\" >L</th>        <th class=\"col_heading level0 col2\" >K1</th>        <th class=\"col_heading level0 col3\" >name</th>        <th class=\"col_heading level0 col4\" >at</th>        <th class=\"col_heading level0 col5\" >pos</th>    </tr></thead><tbody>\n",
       "                <tr>\n",
       "                        <th id=\"T_f2baa_level0_row0\" class=\"row_heading level0 row0\" >0</th>\n",
       "                        <td id=\"T_f2baa_row0_col0\" class=\"data row0 col0\" >QUADRUPOLE</td>\n",
       "                        <td id=\"T_f2baa_row0_col1\" class=\"data row0 col1\" >0.500000</td>\n",
       "                        <td id=\"T_f2baa_row0_col2\" class=\"data row0 col2\" >1.530000</td>\n",
       "                        <td id=\"T_f2baa_row0_col3\" class=\"data row0 col3\" >QF</td>\n",
       "                        <td id=\"T_f2baa_row0_col4\" class=\"data row0 col4\" >0.250000</td>\n",
       "                        <td id=\"T_f2baa_row0_col5\" class=\"data row0 col5\" >0.250000</td>\n",
       "            </tr>\n",
       "            <tr>\n",
       "                        <th id=\"T_f2baa_level0_row1\" class=\"row_heading level0 row1\" >1</th>\n",
       "                        <td id=\"T_f2baa_row1_col0\" class=\"data row1 col0\" >DRIFT</td>\n",
       "                        <td id=\"T_f2baa_row1_col1\" class=\"data row1 col1\" >1.000000</td>\n",
       "                        <td id=\"T_f2baa_row1_col2\" class=\"data row1 col2\" >nan</td>\n",
       "                        <td id=\"T_f2baa_row1_col3\" class=\"data row1 col3\" >D1</td>\n",
       "                        <td id=\"T_f2baa_row1_col4\" class=\"data row1 col4\" >1.000000</td>\n",
       "                        <td id=\"T_f2baa_row1_col5\" class=\"data row1 col5\" >1.000000</td>\n",
       "            </tr>\n",
       "            <tr>\n",
       "                        <th id=\"T_f2baa_level0_row2\" class=\"row_heading level0 row2\" >2</th>\n",
       "                        <td id=\"T_f2baa_row2_col0\" class=\"data row2 col0\" >QUADRUPOLE</td>\n",
       "                        <td id=\"T_f2baa_row2_col1\" class=\"data row2 col1\" >1.000000</td>\n",
       "                        <td id=\"T_f2baa_row2_col2\" class=\"data row2 col2\" >-1.000000</td>\n",
       "                        <td id=\"T_f2baa_row2_col3\" class=\"data row2 col3\" >QD</td>\n",
       "                        <td id=\"T_f2baa_row2_col4\" class=\"data row2 col4\" >2.000000</td>\n",
       "                        <td id=\"T_f2baa_row2_col5\" class=\"data row2 col5\" >2.000000</td>\n",
       "            </tr>\n",
       "            <tr>\n",
       "                        <th id=\"T_f2baa_level0_row3\" class=\"row_heading level0 row3\" >3</th>\n",
       "                        <td id=\"T_f2baa_row3_col0\" class=\"data row3 col0\" >DRIFT</td>\n",
       "                        <td id=\"T_f2baa_row3_col1\" class=\"data row3 col1\" >1.000000</td>\n",
       "                        <td id=\"T_f2baa_row3_col2\" class=\"data row3 col2\" >nan</td>\n",
       "                        <td id=\"T_f2baa_row3_col3\" class=\"data row3 col3\" >D2</td>\n",
       "                        <td id=\"T_f2baa_row3_col4\" class=\"data row3 col4\" >3.000000</td>\n",
       "                        <td id=\"T_f2baa_row3_col5\" class=\"data row3 col5\" >3.000000</td>\n",
       "            </tr>\n",
       "            <tr>\n",
       "                        <th id=\"T_f2baa_level0_row4\" class=\"row_heading level0 row4\" >4</th>\n",
       "                        <td id=\"T_f2baa_row4_col0\" class=\"data row4 col0\" >QUADRUPOLE</td>\n",
       "                        <td id=\"T_f2baa_row4_col1\" class=\"data row4 col1\" >0.500000</td>\n",
       "                        <td id=\"T_f2baa_row4_col2\" class=\"data row4 col2\" >1.530000</td>\n",
       "                        <td id=\"T_f2baa_row4_col3\" class=\"data row4 col3\" >QF</td>\n",
       "                        <td id=\"T_f2baa_row4_col4\" class=\"data row4 col4\" >3.750000</td>\n",
       "                        <td id=\"T_f2baa_row4_col5\" class=\"data row4 col5\" >3.750000</td>\n",
       "            </tr>\n",
       "    </tbody></table>"
      ],
      "text/plain": [
       "<pandas.io.formats.style.Styler at 0x7fcd9791cee0>"
      ]
     },
     "execution_count": 31,
     "metadata": {},
     "output_type": "execute_result"
    }
   ],
   "source": [
    "settings_dict = {'QF' : 1.53}\n",
    "la1.load_strengths_to_table(settings_dict,'K1')\n",
    "la1.table.style.apply(\n",
    "    highlight_cells,_list=list(settings_dict.values()),color=\"lightgreen\",axis=1\n",
    ")"
   ]
  },
  {
   "cell_type": "markdown",
   "metadata": {},
   "source": [
    "### Update table from builder"
   ]
  },
  {
   "cell_type": "code",
   "execution_count": 32,
   "metadata": {},
   "outputs": [
    {
     "data": {
      "text/plain": [
       "('FODO', 4.0, ['QF', 'D1', 'QD', 'D2', 'QF'])"
      ]
     },
     "execution_count": 32,
     "metadata": {},
     "output_type": "execute_result"
    }
   ],
   "source": [
    "la1.name, la1.len, la1.builder.lattice"
   ]
  },
  {
   "cell_type": "code",
   "execution_count": 33,
   "metadata": {},
   "outputs": [
    {
     "data": {
      "text/plain": [
       "['QF', 'D1', 'QD', 'D2', 'QF', 'D1']"
      ]
     },
     "execution_count": 33,
     "metadata": {},
     "output_type": "execute_result"
    }
   ],
   "source": [
    "la1.builder.lattice.append(\"D1\")\n",
    "la1.builder.lattice"
   ]
  },
  {
   "cell_type": "code",
   "execution_count": 34,
   "metadata": {},
   "outputs": [
    {
     "data": {
      "text/html": [
       "<div>\n",
       "<style scoped>\n",
       "    .dataframe tbody tr th:only-of-type {\n",
       "        vertical-align: middle;\n",
       "    }\n",
       "\n",
       "    .dataframe tbody tr th {\n",
       "        vertical-align: top;\n",
       "    }\n",
       "\n",
       "    .dataframe thead th {\n",
       "        text-align: right;\n",
       "    }\n",
       "</style>\n",
       "<table border=\"1\" class=\"dataframe\">\n",
       "  <thead>\n",
       "    <tr style=\"text-align: right;\">\n",
       "      <th></th>\n",
       "      <th>family</th>\n",
       "      <th>L</th>\n",
       "      <th>K1</th>\n",
       "      <th>name</th>\n",
       "      <th>at</th>\n",
       "      <th>pos</th>\n",
       "    </tr>\n",
       "  </thead>\n",
       "  <tbody>\n",
       "    <tr>\n",
       "      <th>0</th>\n",
       "      <td>QUADRUPOLE</td>\n",
       "      <td>0.5</td>\n",
       "      <td>1.53</td>\n",
       "      <td>QF</td>\n",
       "      <td>0.25</td>\n",
       "      <td>0.25</td>\n",
       "    </tr>\n",
       "    <tr>\n",
       "      <th>1</th>\n",
       "      <td>DRIFT</td>\n",
       "      <td>1.0</td>\n",
       "      <td>NaN</td>\n",
       "      <td>D1</td>\n",
       "      <td>1.0</td>\n",
       "      <td>1.0</td>\n",
       "    </tr>\n",
       "    <tr>\n",
       "      <th>2</th>\n",
       "      <td>QUADRUPOLE</td>\n",
       "      <td>1.0</td>\n",
       "      <td>-1.0</td>\n",
       "      <td>QD</td>\n",
       "      <td>2.0</td>\n",
       "      <td>2.0</td>\n",
       "    </tr>\n",
       "    <tr>\n",
       "      <th>3</th>\n",
       "      <td>DRIFT</td>\n",
       "      <td>1.0</td>\n",
       "      <td>NaN</td>\n",
       "      <td>D2</td>\n",
       "      <td>3.0</td>\n",
       "      <td>3.0</td>\n",
       "    </tr>\n",
       "    <tr>\n",
       "      <th>4</th>\n",
       "      <td>QUADRUPOLE</td>\n",
       "      <td>0.5</td>\n",
       "      <td>1.53</td>\n",
       "      <td>QF</td>\n",
       "      <td>3.75</td>\n",
       "      <td>3.75</td>\n",
       "    </tr>\n",
       "  </tbody>\n",
       "</table>\n",
       "</div>"
      ],
      "text/plain": [
       "       family    L    K1 name    at   pos\n",
       "0  QUADRUPOLE  0.5  1.53   QF  0.25  0.25\n",
       "1       DRIFT  1.0   NaN   D1   1.0   1.0\n",
       "2  QUADRUPOLE  1.0  -1.0   QD   2.0   2.0\n",
       "3       DRIFT  1.0   NaN   D2   3.0   3.0\n",
       "4  QUADRUPOLE  0.5  1.53   QF  3.75  3.75"
      ]
     },
     "execution_count": 34,
     "metadata": {},
     "output_type": "execute_result"
    }
   ],
   "source": [
    "la1.table"
   ]
  },
  {
   "cell_type": "code",
   "execution_count": 35,
   "metadata": {},
   "outputs": [
    {
     "data": {
      "text/html": [
       "<div>\n",
       "<style scoped>\n",
       "    .dataframe tbody tr th:only-of-type {\n",
       "        vertical-align: middle;\n",
       "    }\n",
       "\n",
       "    .dataframe tbody tr th {\n",
       "        vertical-align: top;\n",
       "    }\n",
       "\n",
       "    .dataframe thead th {\n",
       "        text-align: right;\n",
       "    }\n",
       "</style>\n",
       "<table border=\"1\" class=\"dataframe\">\n",
       "  <thead>\n",
       "    <tr style=\"text-align: right;\">\n",
       "      <th></th>\n",
       "      <th>name</th>\n",
       "      <th>at</th>\n",
       "    </tr>\n",
       "  </thead>\n",
       "  <tbody>\n",
       "    <tr>\n",
       "      <th>0</th>\n",
       "      <td>QF</td>\n",
       "      <td>0.25</td>\n",
       "    </tr>\n",
       "    <tr>\n",
       "      <th>1</th>\n",
       "      <td>D1</td>\n",
       "      <td>1.00</td>\n",
       "    </tr>\n",
       "    <tr>\n",
       "      <th>2</th>\n",
       "      <td>QD</td>\n",
       "      <td>2.00</td>\n",
       "    </tr>\n",
       "    <tr>\n",
       "      <th>3</th>\n",
       "      <td>D2</td>\n",
       "      <td>3.00</td>\n",
       "    </tr>\n",
       "    <tr>\n",
       "      <th>4</th>\n",
       "      <td>QF</td>\n",
       "      <td>3.75</td>\n",
       "    </tr>\n",
       "  </tbody>\n",
       "</table>\n",
       "</div>"
      ],
      "text/plain": [
       "  name    at\n",
       "0   QF  0.25\n",
       "1   D1  1.00\n",
       "2   QD  2.00\n",
       "3   D2  3.00\n",
       "4   QF  3.75"
      ]
     },
     "execution_count": 35,
     "metadata": {},
     "output_type": "execute_result"
    }
   ],
   "source": [
    "la1.builder.positions"
   ]
  },
  {
   "cell_type": "code",
   "execution_count": 36,
   "metadata": {},
   "outputs": [
    {
     "name": "stdout",
     "output_type": "stream",
     "text": [
      "Length has been autoset - check if value is ok - otherwise update it.\n"
     ]
    }
   ],
   "source": [
    "la1.update_table()"
   ]
  },
  {
   "cell_type": "code",
   "execution_count": 37,
   "metadata": {},
   "outputs": [
    {
     "data": {
      "text/plain": [
       "{'QF': {'family': 'QUADRUPOLE', 'L': 0.5, 'K1': 1.0},\n",
       " 'QD': {'family': 'QUADRUPOLE', 'L': 1.0, 'K1': -1.0},\n",
       " 'D1': {'family': 'DRIFT', 'L': 1.0},\n",
       " 'D2': {'family': 'DRIFT', 'L': 1.0}}"
      ]
     },
     "execution_count": 37,
     "metadata": {},
     "output_type": "execute_result"
    }
   ],
   "source": [
    "la1.builder.definitions"
   ]
  },
  {
   "cell_type": "code",
   "execution_count": 38,
   "metadata": {},
   "outputs": [
    {
     "data": {
      "text/plain": [
       "('FODO', 5.0, ['QF', 'D1', 'QD', 'D2', 'QF', 'D1'])"
      ]
     },
     "execution_count": 38,
     "metadata": {},
     "output_type": "execute_result"
    }
   ],
   "source": [
    "la1.name, la1.len, la1.builder.lattice"
   ]
  },
  {
   "cell_type": "code",
   "execution_count": 39,
   "metadata": {},
   "outputs": [],
   "source": [
    "la1.builder.positions"
   ]
  },
  {
   "cell_type": "code",
   "execution_count": 40,
   "metadata": {},
   "outputs": [
    {
     "data": {
      "text/html": [
       "<div>\n",
       "<style scoped>\n",
       "    .dataframe tbody tr th:only-of-type {\n",
       "        vertical-align: middle;\n",
       "    }\n",
       "\n",
       "    .dataframe tbody tr th {\n",
       "        vertical-align: top;\n",
       "    }\n",
       "\n",
       "    .dataframe thead th {\n",
       "        text-align: right;\n",
       "    }\n",
       "</style>\n",
       "<table border=\"1\" class=\"dataframe\">\n",
       "  <thead>\n",
       "    <tr style=\"text-align: right;\">\n",
       "      <th></th>\n",
       "      <th>family</th>\n",
       "      <th>L</th>\n",
       "      <th>K1</th>\n",
       "      <th>name</th>\n",
       "      <th>at</th>\n",
       "    </tr>\n",
       "  </thead>\n",
       "  <tbody>\n",
       "    <tr>\n",
       "      <th>0</th>\n",
       "      <td>QUADRUPOLE</td>\n",
       "      <td>0.5</td>\n",
       "      <td>1.0</td>\n",
       "      <td>QF</td>\n",
       "      <td>0.25</td>\n",
       "    </tr>\n",
       "    <tr>\n",
       "      <th>1</th>\n",
       "      <td>DRIFT</td>\n",
       "      <td>1.0</td>\n",
       "      <td>NaN</td>\n",
       "      <td>D1</td>\n",
       "      <td>1.00</td>\n",
       "    </tr>\n",
       "    <tr>\n",
       "      <th>2</th>\n",
       "      <td>QUADRUPOLE</td>\n",
       "      <td>1.0</td>\n",
       "      <td>-1.0</td>\n",
       "      <td>QD</td>\n",
       "      <td>2.00</td>\n",
       "    </tr>\n",
       "    <tr>\n",
       "      <th>3</th>\n",
       "      <td>DRIFT</td>\n",
       "      <td>1.0</td>\n",
       "      <td>NaN</td>\n",
       "      <td>D2</td>\n",
       "      <td>3.00</td>\n",
       "    </tr>\n",
       "    <tr>\n",
       "      <th>4</th>\n",
       "      <td>QUADRUPOLE</td>\n",
       "      <td>0.5</td>\n",
       "      <td>1.0</td>\n",
       "      <td>QF</td>\n",
       "      <td>3.75</td>\n",
       "    </tr>\n",
       "    <tr>\n",
       "      <th>5</th>\n",
       "      <td>DRIFT</td>\n",
       "      <td>1.0</td>\n",
       "      <td>NaN</td>\n",
       "      <td>D1</td>\n",
       "      <td>4.50</td>\n",
       "    </tr>\n",
       "  </tbody>\n",
       "</table>\n",
       "</div>"
      ],
      "text/plain": [
       "       family    L   K1 name    at\n",
       "0  QUADRUPOLE  0.5  1.0   QF  0.25\n",
       "1       DRIFT  1.0  NaN   D1  1.00\n",
       "2  QUADRUPOLE  1.0 -1.0   QD  2.00\n",
       "3       DRIFT  1.0  NaN   D2  3.00\n",
       "4  QUADRUPOLE  0.5  1.0   QF  3.75\n",
       "5       DRIFT  1.0  NaN   D1  4.50"
      ]
     },
     "execution_count": 40,
     "metadata": {},
     "output_type": "execute_result"
    }
   ],
   "source": [
    "la1.builder.table"
   ]
  },
  {
   "cell_type": "markdown",
   "metadata": {},
   "source": [
    "### Compare settings"
   ]
  },
  {
   "cell_type": "code",
   "execution_count": 41,
   "metadata": {},
   "outputs": [],
   "source": [
    "from latticeadaptor.utils import compare_settings_dicts\n",
    "from latticeadaptor.utils import Beamlinegraph_compare_from_seq_files"
   ]
  },
  {
   "cell_type": "code",
   "execution_count": 42,
   "metadata": {},
   "outputs": [
    {
     "data": {
      "text/plain": [
       "(  name_x   pos name_y\n",
       " 0     QF  0.25     QF\n",
       " 1     D1  1.00     D1\n",
       " 2     QD  2.00     QD\n",
       " 3     D2  3.00     D2\n",
       " 4     QF  3.75     QF,\n",
       " Empty DataFrame\n",
       " Columns: [name, pos]\n",
       " Index: [])"
      ]
     },
     "execution_count": 42,
     "metadata": {},
     "output_type": "execute_result"
    }
   ],
   "source": [
    "la2.compare_seq_center_positions('lattice.seq')"
   ]
  },
  {
   "cell_type": "code",
   "execution_count": 43,
   "metadata": {},
   "outputs": [
    {
     "name": "stdout",
     "output_type": "stream",
     "text": [
      "\u001b[32mQF           1.000000000000   1.000000000000\u001b[0m\n",
      "\u001b[32mQD          -1.000000000000  -1.000000000000\u001b[0m\n"
     ]
    }
   ],
   "source": [
    "quad_set1 = la1.get_quad_strengths()\n",
    "quad_set2 = la2.get_quad_strengths()\n",
    "compare_settings_dicts(quad_set1, quad_set2, threshold=1)"
   ]
  },
  {
   "cell_type": "code",
   "execution_count": 44,
   "metadata": {},
   "outputs": [
    {
     "name": "stdout",
     "output_type": "stream",
     "text": [
      "\u001b[32mQF           1.000000000000   1.000000000000\u001b[0m\n",
      "\u001b[32mQD          -1.000000000000  -1.000000000000\u001b[0m\n"
     ]
    }
   ],
   "source": [
    "quad_set1 = la1.get_quad_strengths()\n",
    "quad_set2 = la2.get_quad_strengths()\n",
    "compare_settings_dicts(quad_set1, quad_set2, threshold=.1)"
   ]
  },
  {
   "cell_type": "code",
   "execution_count": 45,
   "metadata": {},
   "outputs": [
    {
     "name": "stdout",
     "output_type": "stream",
     "text": [
      "Length has been autoset - check if value is ok - otherwise update it.\n"
     ]
    }
   ],
   "source": [
    "latticestring = \"\"\"\n",
    "QF : QUADRUPOLE, L := 0.50 , K1 :=  1.00;\n",
    "QD : QUADRUPOLE, L := 0.75 , K1 := -1.00;\n",
    "\n",
    "FODO: SEQUENCE, L=4.00;\n",
    "QF, at = 0.25;\n",
    "QD, at = 2.00;\n",
    "QF, at = 3.75;\n",
    "ENDSEQUENCE;\n",
    "\"\"\"\n",
    "la4 = LatticeAdaptor()\n",
    "la4.load_from_string(latticestring, ftype='madx')\n",
    "la4.parse_table_to_madx_sequence_file('lattice2.seq')"
   ]
  },
  {
   "cell_type": "code",
   "execution_count": 46,
   "metadata": {},
   "outputs": [
    {
     "data": {
      "text/plain": [
       "(<module 'matplotlib.pyplot' from '/home/mti/anaconda3/envs/lae/lib/python3.9/site-packages/matplotlib/pyplot.py'>,\n",
       " <AxesSubplot:xlabel='S[m]'>)"
      ]
     },
     "execution_count": 46,
     "metadata": {},
     "output_type": "execute_result"
    },
    {
     "data": {
      "image/png": "[encoded data removed]",
      "text/plain": [
       "<Figure size 1152x432 with 1 Axes>"
      ]
     },
     "metadata": {
      "needs_background": "light"
     },
     "output_type": "display_data"
    }
   ],
   "source": [
    "Beamlinegraph_compare_from_seq_files('lattice.seq','lattice2.seq')"
   ]
  },
  {
   "cell_type": "markdown",
   "metadata": {},
   "source": [
    "## Plotting"
   ]
  },
  {
   "cell_type": "code",
   "execution_count": 47,
   "metadata": {},
   "outputs": [],
   "source": [
    "from latticeadaptor.utils import Beamlinegraph_from_seq_file"
   ]
  },
  {
   "cell_type": "code",
   "execution_count": 48,
   "metadata": {},
   "outputs": [
    {
     "name": "stdout",
     "output_type": "stream",
     "text": [
      "Length has been autoset - check if value is ok - otherwise update it.\n"
     ]
    },
    {
     "data": {
      "text/plain": [
       "(<module 'matplotlib.pyplot' from '/home/mti/anaconda3/envs/lae/lib/python3.9/site-packages/matplotlib/pyplot.py'>,\n",
       " <AxesSubplot:xlabel='S[m]'>)"
      ]
     },
     "execution_count": 48,
     "metadata": {},
     "output_type": "execute_result"
    },
    {
     "data": {
      "image/png": "[encoded data removed]",
      "text/plain": [
       "<Figure size 864x432 with 1 Axes>"
      ]
     },
     "metadata": {
      "needs_background": "light"
     },
     "output_type": "display_data"
    }
   ],
   "source": [
    "madxseqsymm = \"\"\"\n",
    "QF : QUADRUPOLE, L := 0.50 , K1 :=  1.00;\n",
    "QD : QUADRUPOLE, L := 1.00 , K1 := -1.00;\n",
    "D1 : DRIFT, L := 1.00;\n",
    "D2 : DRIFT, L := 1.00;\n",
    "\n",
    "FODO: SEQUENCE, L=4.00;\n",
    "QF, at = 0.25;\n",
    "D1, at = 1.00;\n",
    "QD, at = 2.00;\n",
    "D2, at = 3.00;\n",
    "QF, at = 3.75;\n",
    "ENDSEQUENCE;\n",
    "\"\"\"\n",
    "la = LatticeAdaptor()\n",
    "la.load_from_string(madxseqsymm,ftype='madx')\n",
    "la.parse_table_to_madx_sequence_file('fodo.seq')\n",
    "Beamlinegraph_from_seq_file('fodo.seq')"
   ]
  },
  {
   "cell_type": "code",
   "execution_count": 49,
   "metadata": {},
   "outputs": [
    {
     "name": "stdout",
     "output_type": "stream",
     "text": [
      "Length has been autoset - check if value is ok - otherwise update it.\n"
     ]
    },
    {
     "data": {
      "text/plain": [
       "(<module 'matplotlib.pyplot' from '/home/mti/anaconda3/envs/lae/lib/python3.9/site-packages/matplotlib/pyplot.py'>,\n",
       " <AxesSubplot:xlabel='S[m]'>)"
      ]
     },
     "execution_count": 49,
     "metadata": {},
     "output_type": "execute_result"
    },
    {
     "data": {
      "image/png": "[encoded data removed]",
      "text/plain": [
       "<Figure size 864x432 with 1 Axes>"
      ]
     },
     "metadata": {
      "needs_background": "light"
     },
     "output_type": "display_data"
    }
   ],
   "source": [
    "madxseqsymm = \"\"\"\n",
    "QF: QUADRUPOLE, L=0.5,K1=0.2; \n",
    "QD: QUADRUPOLE, L=1.0,K1=-0.2; \n",
    "B: SBEND, L=1.0, ANGLE=15.0, E1 =7.5, E2=7.5; \n",
    "FODO: SEQUENCE, L=12.0;\n",
    "QF, at = 0.25;\n",
    "B,  at = 3.00;\n",
    "QD, at = 6.00;\n",
    "B,  at = 9.00;\n",
    "QF, at = 11.75;\n",
    "ENDSEQUENCE;\n",
    "\"\"\"\n",
    "la = LatticeAdaptor()\n",
    "la.load_from_string(madxseqsymm,ftype='madx')\n",
    "la.parse_table_to_madx_sequence_file('fodob.seq')\n",
    "Beamlinegraph_from_seq_file('fodob.seq')"
   ]
  },
  {
   "cell_type": "code",
   "execution_count": 50,
   "metadata": {},
   "outputs": [
    {
     "data": {
      "text/plain": [
       "(<module 'matplotlib.pyplot' from '/home/mti/anaconda3/envs/lae/lib/python3.9/site-packages/matplotlib/pyplot.py'>,\n",
       " <AxesSubplot:xlabel='S[m]'>)"
      ]
     },
     "execution_count": 50,
     "metadata": {},
     "output_type": "execute_result"
    },
    {
     "data": {
      "image/png": "[encoded data removed]",
      "text/plain": [
       "<Figure size 864x432 with 1 Axes>"
      ]
     },
     "metadata": {
      "needs_background": "light"
     },
     "output_type": "display_data"
    }
   ],
   "source": [
    "from latticeadaptor.utils import twissplot\n",
    "import numpy as np\n",
    "\n",
    "from cpymad.madx import Madx\n",
    "madx = Madx(stdout=False)\n",
    "madx.command.beam(particle='electron',energy=1.7)\n",
    "madx.call(file='fodo.seq')\n",
    "madx.use(sequence='FODO')\n",
    "twiss = madx.twiss()\n",
    "twissplot(\n",
    "    twiss, cols=[\"betx\", \"bety\", \"dx\"], \n",
    "    beamlinegraph=True, \n",
    "    sequence='fodo.seq',\n",
    "    offset_array = np.array([0.0,7.0]), \n",
    "    anno=True\n",
    ")"
   ]
  },
  {
   "cell_type": "markdown",
   "metadata": {},
   "source": [
    "## Advanced editing"
   ]
  },
  {
   "cell_type": "code",
   "execution_count": 51,
   "metadata": {},
   "outputs": [
    {
     "name": "stdout",
     "output_type": "stream",
     "text": [
      "Dipole length [m]       :     6.000000\n",
      "Dipole Bend Angle [rad] :     0.098000\n",
      "Dipole Bend Angle [deg] :     5.614986\n",
      "Dipole Bend Radius [m]  :    61.224490\n",
      "\n",
      "\n",
      "BM splitting angles               [deg] :     1.400000    2.500000    2.807493    5.614986    6.400000\n",
      "BM splitting angles  - cumulative [rad] :     0.024435    0.043633    0.049000    0.098000    0.111701\n",
      "BM splitting angles  - individual [rad] :     0.024435    0.019199    0.005367    0.049000    0.013701\n",
      "BM splitting lengths - cumulative [m]   :     1.495997    2.671422    3.000000    6.000000    6.838841\n",
      "BM splitting lengths - individual [m]   :     1.495997    1.175426    0.328578    3.000000    0.838841\n",
      "\n"
     ]
    }
   ],
   "source": [
    "from latticeadaptor.utils import dipole_split_angles_to_dict\n",
    "\n",
    "dipolename = 'B'\n",
    "dipolelen  = 6.00\n",
    "dipoleanglerad = 0.098 \n",
    "anglelistdeg = [1.4,2.5,6.4]\n",
    "split_dict = dipole_split_angles_to_dict(dipolename,dipolelen,dipoleanglerad,anglelistdeg,verbose=True)"
   ]
  },
  {
   "cell_type": "code",
   "execution_count": 52,
   "metadata": {},
   "outputs": [
    {
     "data": {
      "text/plain": [
       "{'B': {'lengths': array([1.4959965 , 1.17542582, 0.32857768, 3.        , 0.83884115]),\n",
       "  'angles': array([0.02443461, 0.01919862, 0.00536677, 0.049     , 0.01370107])}}"
      ]
     },
     "execution_count": 52,
     "metadata": {},
     "output_type": "execute_result"
    }
   ],
   "source": [
    "split_dict"
   ]
  },
  {
   "cell_type": "code",
   "execution_count": 53,
   "metadata": {},
   "outputs": [
    {
     "data": {
      "text/html": [
       "<div>\n",
       "<style scoped>\n",
       "    .dataframe tbody tr th:only-of-type {\n",
       "        vertical-align: middle;\n",
       "    }\n",
       "\n",
       "    .dataframe tbody tr th {\n",
       "        vertical-align: top;\n",
       "    }\n",
       "\n",
       "    .dataframe thead th {\n",
       "        text-align: right;\n",
       "    }\n",
       "</style>\n",
       "<table border=\"1\" class=\"dataframe\">\n",
       "  <thead>\n",
       "    <tr style=\"text-align: right;\">\n",
       "      <th></th>\n",
       "      <th>L</th>\n",
       "      <th>at</th>\n",
       "      <th>family</th>\n",
       "      <th>name</th>\n",
       "      <th>pos</th>\n",
       "      <th>ANGLE</th>\n",
       "      <th>E1</th>\n",
       "      <th>E2</th>\n",
       "      <th>K1</th>\n",
       "    </tr>\n",
       "  </thead>\n",
       "  <tbody>\n",
       "    <tr>\n",
       "      <th>0</th>\n",
       "      <td>0.000000</td>\n",
       "      <td>3.995997</td>\n",
       "      <td>MARKER</td>\n",
       "      <td>MBEAMPORT_2A1</td>\n",
       "      <td>3.995997</td>\n",
       "      <td>NaN</td>\n",
       "      <td>NaN</td>\n",
       "      <td>NaN</td>\n",
       "      <td>NaN</td>\n",
       "    </tr>\n",
       "    <tr>\n",
       "      <th>1</th>\n",
       "      <td>1.495997</td>\n",
       "      <td>3.247998</td>\n",
       "      <td>SBEND</td>\n",
       "      <td>B1_1p40_deg</td>\n",
       "      <td>NaN</td>\n",
       "      <td>0.024435</td>\n",
       "      <td>7.5</td>\n",
       "      <td>0.0</td>\n",
       "      <td>NaN</td>\n",
       "    </tr>\n",
       "    <tr>\n",
       "      <th>2</th>\n",
       "      <td>0.000000</td>\n",
       "      <td>5.171422</td>\n",
       "      <td>MARKER</td>\n",
       "      <td>MBEAMPORT_2A2</td>\n",
       "      <td>5.171422</td>\n",
       "      <td>NaN</td>\n",
       "      <td>NaN</td>\n",
       "      <td>NaN</td>\n",
       "      <td>NaN</td>\n",
       "    </tr>\n",
       "    <tr>\n",
       "      <th>3</th>\n",
       "      <td>1.175426</td>\n",
       "      <td>4.583709</td>\n",
       "      <td>SBEND</td>\n",
       "      <td>B1_2p50_deg</td>\n",
       "      <td>NaN</td>\n",
       "      <td>0.019199</td>\n",
       "      <td>0.0</td>\n",
       "      <td>0.0</td>\n",
       "      <td>NaN</td>\n",
       "    </tr>\n",
       "    <tr>\n",
       "      <th>4</th>\n",
       "      <td>0.000000</td>\n",
       "      <td>5.500000</td>\n",
       "      <td>MARKER</td>\n",
       "      <td>MB_MIDDLE</td>\n",
       "      <td>5.500000</td>\n",
       "      <td>NaN</td>\n",
       "      <td>NaN</td>\n",
       "      <td>NaN</td>\n",
       "      <td>NaN</td>\n",
       "    </tr>\n",
       "    <tr>\n",
       "      <th>5</th>\n",
       "      <td>0.328578</td>\n",
       "      <td>5.335711</td>\n",
       "      <td>SBEND</td>\n",
       "      <td>B1_2p81_deg</td>\n",
       "      <td>NaN</td>\n",
       "      <td>0.005367</td>\n",
       "      <td>0.0</td>\n",
       "      <td>0.0</td>\n",
       "      <td>NaN</td>\n",
       "    </tr>\n",
       "    <tr>\n",
       "      <th>6</th>\n",
       "      <td>3.000000</td>\n",
       "      <td>7.000000</td>\n",
       "      <td>SBEND</td>\n",
       "      <td>B2_5p61_deg</td>\n",
       "      <td>NaN</td>\n",
       "      <td>0.049000</td>\n",
       "      <td>0.0</td>\n",
       "      <td>0.0</td>\n",
       "      <td>NaN</td>\n",
       "    </tr>\n",
       "    <tr>\n",
       "      <th>7</th>\n",
       "      <td>0.000000</td>\n",
       "      <td>9.338841</td>\n",
       "      <td>MARKER</td>\n",
       "      <td>MBEAMPORT_2B2</td>\n",
       "      <td>9.338841</td>\n",
       "      <td>NaN</td>\n",
       "      <td>NaN</td>\n",
       "      <td>NaN</td>\n",
       "      <td>NaN</td>\n",
       "    </tr>\n",
       "    <tr>\n",
       "      <th>8</th>\n",
       "      <td>0.838841</td>\n",
       "      <td>8.919421</td>\n",
       "      <td>SBEND</td>\n",
       "      <td>B2_6p40_deg</td>\n",
       "      <td>NaN</td>\n",
       "      <td>0.013701</td>\n",
       "      <td>0.0</td>\n",
       "      <td>7.5</td>\n",
       "      <td>NaN</td>\n",
       "    </tr>\n",
       "    <tr>\n",
       "      <th>9</th>\n",
       "      <td>0.000000</td>\n",
       "      <td>9.995997</td>\n",
       "      <td>MARKER</td>\n",
       "      <td>MBEAMPORT_2A1</td>\n",
       "      <td>9.995997</td>\n",
       "      <td>NaN</td>\n",
       "      <td>NaN</td>\n",
       "      <td>NaN</td>\n",
       "      <td>NaN</td>\n",
       "    </tr>\n",
       "    <tr>\n",
       "      <th>10</th>\n",
       "      <td>1.495997</td>\n",
       "      <td>9.247998</td>\n",
       "      <td>SBEND</td>\n",
       "      <td>B1_1p40_deg</td>\n",
       "      <td>NaN</td>\n",
       "      <td>0.024435</td>\n",
       "      <td>7.5</td>\n",
       "      <td>0.0</td>\n",
       "      <td>NaN</td>\n",
       "    </tr>\n",
       "    <tr>\n",
       "      <th>11</th>\n",
       "      <td>0.000000</td>\n",
       "      <td>11.171422</td>\n",
       "      <td>MARKER</td>\n",
       "      <td>MBEAMPORT_2A2</td>\n",
       "      <td>11.171422</td>\n",
       "      <td>NaN</td>\n",
       "      <td>NaN</td>\n",
       "      <td>NaN</td>\n",
       "      <td>NaN</td>\n",
       "    </tr>\n",
       "    <tr>\n",
       "      <th>12</th>\n",
       "      <td>1.175426</td>\n",
       "      <td>10.583709</td>\n",
       "      <td>SBEND</td>\n",
       "      <td>B1_2p50_deg</td>\n",
       "      <td>NaN</td>\n",
       "      <td>0.019199</td>\n",
       "      <td>0.0</td>\n",
       "      <td>0.0</td>\n",
       "      <td>NaN</td>\n",
       "    </tr>\n",
       "    <tr>\n",
       "      <th>13</th>\n",
       "      <td>0.000000</td>\n",
       "      <td>11.500000</td>\n",
       "      <td>MARKER</td>\n",
       "      <td>MB_MIDDLE</td>\n",
       "      <td>11.500000</td>\n",
       "      <td>NaN</td>\n",
       "      <td>NaN</td>\n",
       "      <td>NaN</td>\n",
       "      <td>NaN</td>\n",
       "    </tr>\n",
       "    <tr>\n",
       "      <th>14</th>\n",
       "      <td>0.328578</td>\n",
       "      <td>11.335711</td>\n",
       "      <td>SBEND</td>\n",
       "      <td>B1_2p81_deg</td>\n",
       "      <td>NaN</td>\n",
       "      <td>0.005367</td>\n",
       "      <td>0.0</td>\n",
       "      <td>0.0</td>\n",
       "      <td>NaN</td>\n",
       "    </tr>\n",
       "    <tr>\n",
       "      <th>15</th>\n",
       "      <td>3.000000</td>\n",
       "      <td>13.000000</td>\n",
       "      <td>SBEND</td>\n",
       "      <td>B2_5p61_deg</td>\n",
       "      <td>NaN</td>\n",
       "      <td>0.049000</td>\n",
       "      <td>0.0</td>\n",
       "      <td>0.0</td>\n",
       "      <td>NaN</td>\n",
       "    </tr>\n",
       "    <tr>\n",
       "      <th>16</th>\n",
       "      <td>0.000000</td>\n",
       "      <td>15.338841</td>\n",
       "      <td>MARKER</td>\n",
       "      <td>MBEAMPORT_2B2</td>\n",
       "      <td>15.338841</td>\n",
       "      <td>NaN</td>\n",
       "      <td>NaN</td>\n",
       "      <td>NaN</td>\n",
       "      <td>NaN</td>\n",
       "    </tr>\n",
       "    <tr>\n",
       "      <th>17</th>\n",
       "      <td>0.838841</td>\n",
       "      <td>14.919421</td>\n",
       "      <td>SBEND</td>\n",
       "      <td>B2_6p40_deg</td>\n",
       "      <td>NaN</td>\n",
       "      <td>0.013701</td>\n",
       "      <td>0.0</td>\n",
       "      <td>7.5</td>\n",
       "      <td>NaN</td>\n",
       "    </tr>\n",
       "  </tbody>\n",
       "</table>\n",
       "</div>"
      ],
      "text/plain": [
       "           L         at  family           name        pos     ANGLE   E1   E2  \\\n",
       "0   0.000000   3.995997  MARKER  MBEAMPORT_2A1   3.995997       NaN  NaN  NaN   \n",
       "1   1.495997   3.247998   SBEND    B1_1p40_deg        NaN  0.024435  7.5  0.0   \n",
       "2   0.000000   5.171422  MARKER  MBEAMPORT_2A2   5.171422       NaN  NaN  NaN   \n",
       "3   1.175426   4.583709   SBEND    B1_2p50_deg        NaN  0.019199  0.0  0.0   \n",
       "4   0.000000   5.500000  MARKER      MB_MIDDLE   5.500000       NaN  NaN  NaN   \n",
       "5   0.328578   5.335711   SBEND    B1_2p81_deg        NaN  0.005367  0.0  0.0   \n",
       "6   3.000000   7.000000   SBEND    B2_5p61_deg        NaN  0.049000  0.0  0.0   \n",
       "7   0.000000   9.338841  MARKER  MBEAMPORT_2B2   9.338841       NaN  NaN  NaN   \n",
       "8   0.838841   8.919421   SBEND    B2_6p40_deg        NaN  0.013701  0.0  7.5   \n",
       "9   0.000000   9.995997  MARKER  MBEAMPORT_2A1   9.995997       NaN  NaN  NaN   \n",
       "10  1.495997   9.247998   SBEND    B1_1p40_deg        NaN  0.024435  7.5  0.0   \n",
       "11  0.000000  11.171422  MARKER  MBEAMPORT_2A2  11.171422       NaN  NaN  NaN   \n",
       "12  1.175426  10.583709   SBEND    B1_2p50_deg        NaN  0.019199  0.0  0.0   \n",
       "13  0.000000  11.500000  MARKER      MB_MIDDLE  11.500000       NaN  NaN  NaN   \n",
       "14  0.328578  11.335711   SBEND    B1_2p81_deg        NaN  0.005367  0.0  0.0   \n",
       "15  3.000000  13.000000   SBEND    B2_5p61_deg        NaN  0.049000  0.0  0.0   \n",
       "16  0.000000  15.338841  MARKER  MBEAMPORT_2B2  15.338841       NaN  NaN  NaN   \n",
       "17  0.838841  14.919421   SBEND    B2_6p40_deg        NaN  0.013701  0.0  7.5   \n",
       "\n",
       "    K1  \n",
       "0  NaN  \n",
       "1  NaN  \n",
       "2  NaN  \n",
       "3  NaN  \n",
       "4  NaN  \n",
       "5  NaN  \n",
       "6  NaN  \n",
       "7  NaN  \n",
       "8  NaN  \n",
       "9  NaN  \n",
       "10 NaN  \n",
       "11 NaN  \n",
       "12 NaN  \n",
       "13 NaN  \n",
       "14 NaN  \n",
       "15 NaN  \n",
       "16 NaN  \n",
       "17 NaN  "
      ]
     },
     "execution_count": 53,
     "metadata": {},
     "output_type": "execute_result"
    }
   ],
   "source": [
    "from latticeadaptor.utils import split_dipoles, filter_family\n",
    "\n",
    "dfdip  = filter_family(la.table, 'SBEND')\n",
    "newdip = split_dipoles(dfdip, split_dict ,dipoleanglerad/2)\n",
    "newdip"
   ]
  },
  {
   "cell_type": "code",
   "execution_count": 54,
   "metadata": {},
   "outputs": [
    {
     "name": "stdout",
     "output_type": "stream",
     "text": [
      "Length has been autoset - check if value is ok - otherwise update it.\n"
     ]
    },
    {
     "data": {
      "text/html": [
       "<div>\n",
       "<style scoped>\n",
       "    .dataframe tbody tr th:only-of-type {\n",
       "        vertical-align: middle;\n",
       "    }\n",
       "\n",
       "    .dataframe tbody tr th {\n",
       "        vertical-align: top;\n",
       "    }\n",
       "\n",
       "    .dataframe thead th {\n",
       "        text-align: right;\n",
       "    }\n",
       "</style>\n",
       "<table border=\"1\" class=\"dataframe\">\n",
       "  <thead>\n",
       "    <tr style=\"text-align: right;\">\n",
       "      <th></th>\n",
       "      <th>family</th>\n",
       "      <th>L</th>\n",
       "      <th>K1</th>\n",
       "      <th>name</th>\n",
       "      <th>at</th>\n",
       "      <th>pos</th>\n",
       "    </tr>\n",
       "  </thead>\n",
       "  <tbody>\n",
       "    <tr>\n",
       "      <th>0</th>\n",
       "      <td>QUADRUPOLE</td>\n",
       "      <td>0.5</td>\n",
       "      <td>1.0</td>\n",
       "      <td>QF</td>\n",
       "      <td>0.25</td>\n",
       "      <td>0.25</td>\n",
       "    </tr>\n",
       "    <tr>\n",
       "      <th>1</th>\n",
       "      <td>DRIFT</td>\n",
       "      <td>1.125</td>\n",
       "      <td>NaN</td>\n",
       "      <td>D1</td>\n",
       "      <td>NaN</td>\n",
       "      <td>1.0625</td>\n",
       "    </tr>\n",
       "    <tr>\n",
       "      <th>2</th>\n",
       "      <td>QUADRUPOLE</td>\n",
       "      <td>0.75</td>\n",
       "      <td>-1.0</td>\n",
       "      <td>QD</td>\n",
       "      <td>2.0</td>\n",
       "      <td>2.0</td>\n",
       "    </tr>\n",
       "    <tr>\n",
       "      <th>3</th>\n",
       "      <td>DRIFT</td>\n",
       "      <td>1.125</td>\n",
       "      <td>NaN</td>\n",
       "      <td>D2</td>\n",
       "      <td>NaN</td>\n",
       "      <td>2.9375</td>\n",
       "    </tr>\n",
       "    <tr>\n",
       "      <th>4</th>\n",
       "      <td>QUADRUPOLE</td>\n",
       "      <td>0.5</td>\n",
       "      <td>1.0</td>\n",
       "      <td>QF</td>\n",
       "      <td>3.75</td>\n",
       "      <td>3.75</td>\n",
       "    </tr>\n",
       "  </tbody>\n",
       "</table>\n",
       "</div>"
      ],
      "text/plain": [
       "       family      L   K1 name    at     pos\n",
       "0  QUADRUPOLE    0.5  1.0   QF  0.25    0.25\n",
       "1       DRIFT  1.125  NaN   D1   NaN  1.0625\n",
       "2  QUADRUPOLE   0.75 -1.0   QD   2.0     2.0\n",
       "3       DRIFT  1.125  NaN   D2   NaN  2.9375\n",
       "4  QUADRUPOLE    0.5  1.0   QF  3.75    3.75"
      ]
     },
     "execution_count": 54,
     "metadata": {},
     "output_type": "execute_result"
    }
   ],
   "source": [
    "latticestring = \"\"\"\n",
    "QF : QUADRUPOLE, L := 0.50 , K1 :=  1.00;\n",
    "QD : QUADRUPOLE, L := 0.75 , K1 := -1.00;\n",
    "\n",
    "FODO: SEQUENCE, L=4.00;\n",
    "QF, at = 0.25;\n",
    "QD, at = 2.00;\n",
    "QF, at = 3.75;\n",
    "ENDSEQUENCE;\n",
    "\"\"\"\n",
    "la = LatticeAdaptor()\n",
    "la.load_from_string(latticestring, ftype='madx')\n",
    "la.add_drifts()\n",
    "la.table"
   ]
  },
  {
   "cell_type": "code",
   "execution_count": 55,
   "metadata": {},
   "outputs": [
    {
     "data": {
      "text/html": [
       "<div>\n",
       "<style scoped>\n",
       "    .dataframe tbody tr th:only-of-type {\n",
       "        vertical-align: middle;\n",
       "    }\n",
       "\n",
       "    .dataframe tbody tr th {\n",
       "        vertical-align: top;\n",
       "    }\n",
       "\n",
       "    .dataframe thead th {\n",
       "        text-align: right;\n",
       "    }\n",
       "</style>\n",
       "<table border=\"1\" class=\"dataframe\">\n",
       "  <thead>\n",
       "    <tr style=\"text-align: right;\">\n",
       "      <th></th>\n",
       "      <th>family</th>\n",
       "      <th>L</th>\n",
       "      <th>K1</th>\n",
       "      <th>name</th>\n",
       "      <th>at</th>\n",
       "    </tr>\n",
       "  </thead>\n",
       "  <tbody>\n",
       "    <tr>\n",
       "      <th>0</th>\n",
       "      <td>QUADRUPOLE</td>\n",
       "      <td>0.50</td>\n",
       "      <td>1.0</td>\n",
       "      <td>QF</td>\n",
       "      <td>0.25</td>\n",
       "    </tr>\n",
       "    <tr>\n",
       "      <th>1</th>\n",
       "      <td>QUADRUPOLE</td>\n",
       "      <td>0.75</td>\n",
       "      <td>-1.0</td>\n",
       "      <td>QD</td>\n",
       "      <td>2.00</td>\n",
       "    </tr>\n",
       "    <tr>\n",
       "      <th>2</th>\n",
       "      <td>QUADRUPOLE</td>\n",
       "      <td>0.50</td>\n",
       "      <td>1.0</td>\n",
       "      <td>QF</td>\n",
       "      <td>3.75</td>\n",
       "    </tr>\n",
       "  </tbody>\n",
       "</table>\n",
       "</div>"
      ],
      "text/plain": [
       "       family     L   K1 name    at\n",
       "0  QUADRUPOLE  0.50  1.0   QF  0.25\n",
       "1  QUADRUPOLE  0.75 -1.0   QD  2.00\n",
       "2  QUADRUPOLE  0.50  1.0   QF  3.75"
      ]
     },
     "execution_count": 55,
     "metadata": {},
     "output_type": "execute_result"
    }
   ],
   "source": [
    "la.undo()\n",
    "la.table"
   ]
  },
  {
   "cell_type": "code",
   "execution_count": 56,
   "metadata": {},
   "outputs": [
    {
     "name": "stdout",
     "output_type": "stream",
     "text": [
      "USE, SEQUENCE=FODO;\n",
      "SEQEDIT, SEQUENCE = FODO;  \n",
      "FLATTEN;\n",
      "INSTALL, ELEMENT = QF              , AT =     0.250000;\n",
      "INSTALL, ELEMENT = QD              , AT =     2.000000;\n",
      "INSTALL, ELEMENT = QF              , AT =     3.750000;\n",
      "FLATTEN;\n",
      "ENDEDIT;\n"
     ]
    }
   ],
   "source": [
    "print(la.parse_table_to_madx_install_str())"
   ]
  },
  {
   "cell_type": "code",
   "execution_count": 57,
   "metadata": {},
   "outputs": [
    {
     "name": "stdout",
     "output_type": "stream",
     "text": [
      "USE, SEQUENCE=FODO;\n",
      "SEQEDIT, SEQUENCE = FODO;  \n",
      "FLATTEN;\n",
      "REMOVE, ELEMENT = QF              ;\n",
      "REMOVE, ELEMENT = QD              ;\n",
      "REMOVE, ELEMENT = QF              ;\n",
      "FLATTEN;\n",
      "ENDEDIT;\n"
     ]
    }
   ],
   "source": [
    "print(la.parse_table_to_madx_remove_str())"
   ]
  },
  {
   "cell_type": "markdown",
   "metadata": {},
   "source": [
    "## Advanced diplole splitting example"
   ]
  },
  {
   "cell_type": "code",
   "execution_count": 58,
   "metadata": {},
   "outputs": [
    {
     "name": "stdout",
     "output_type": "stream",
     "text": [
      "Length has been autoset - check if value is ok - otherwise update it.\n"
     ]
    },
    {
     "data": {
      "text/html": [
       "<div>\n",
       "<style scoped>\n",
       "    .dataframe tbody tr th:only-of-type {\n",
       "        vertical-align: middle;\n",
       "    }\n",
       "\n",
       "    .dataframe tbody tr th {\n",
       "        vertical-align: top;\n",
       "    }\n",
       "\n",
       "    .dataframe thead th {\n",
       "        text-align: right;\n",
       "    }\n",
       "</style>\n",
       "<table border=\"1\" class=\"dataframe\">\n",
       "  <thead>\n",
       "    <tr style=\"text-align: right;\">\n",
       "      <th></th>\n",
       "      <th>family</th>\n",
       "      <th>name</th>\n",
       "      <th>L</th>\n",
       "      <th>K2</th>\n",
       "      <th>K1</th>\n",
       "      <th>ANGLE</th>\n",
       "      <th>E1</th>\n",
       "      <th>E2</th>\n",
       "      <th>at</th>\n",
       "    </tr>\n",
       "  </thead>\n",
       "  <tbody>\n",
       "    <tr>\n",
       "      <th>0</th>\n",
       "      <td>SBEND</td>\n",
       "      <td>BM2D1R</td>\n",
       "      <td>0.855</td>\n",
       "      <td>NaN</td>\n",
       "      <td>NaN</td>\n",
       "      <td>0.19635</td>\n",
       "      <td>0.098175</td>\n",
       "      <td>0.098175</td>\n",
       "      <td>5.1825</td>\n",
       "    </tr>\n",
       "    <tr>\n",
       "      <th>1</th>\n",
       "      <td>SBEND</td>\n",
       "      <td>BM1T1R</td>\n",
       "      <td>0.855</td>\n",
       "      <td>NaN</td>\n",
       "      <td>NaN</td>\n",
       "      <td>0.19635</td>\n",
       "      <td>0.098175</td>\n",
       "      <td>0.098175</td>\n",
       "      <td>9.8175</td>\n",
       "    </tr>\n",
       "    <tr>\n",
       "      <th>2</th>\n",
       "      <td>SBEND</td>\n",
       "      <td>BM2T1R</td>\n",
       "      <td>0.855</td>\n",
       "      <td>NaN</td>\n",
       "      <td>NaN</td>\n",
       "      <td>0.19635</td>\n",
       "      <td>0.098175</td>\n",
       "      <td>0.098175</td>\n",
       "      <td>20.1825</td>\n",
       "    </tr>\n",
       "    <tr>\n",
       "      <th>3</th>\n",
       "      <td>SBEND</td>\n",
       "      <td>BM1D2R</td>\n",
       "      <td>0.855</td>\n",
       "      <td>NaN</td>\n",
       "      <td>NaN</td>\n",
       "      <td>0.19635</td>\n",
       "      <td>0.098175</td>\n",
       "      <td>0.098175</td>\n",
       "      <td>24.8175</td>\n",
       "    </tr>\n",
       "    <tr>\n",
       "      <th>4</th>\n",
       "      <td>SBEND</td>\n",
       "      <td>BM2D2R</td>\n",
       "      <td>0.855</td>\n",
       "      <td>NaN</td>\n",
       "      <td>NaN</td>\n",
       "      <td>0.19635</td>\n",
       "      <td>0.098175</td>\n",
       "      <td>0.098175</td>\n",
       "      <td>35.1825</td>\n",
       "    </tr>\n",
       "  </tbody>\n",
       "</table>\n",
       "</div>"
      ],
      "text/plain": [
       "  family    name      L  K2  K1    ANGLE        E1        E2       at\n",
       "0  SBEND  BM2D1R  0.855 NaN NaN  0.19635  0.098175  0.098175   5.1825\n",
       "1  SBEND  BM1T1R  0.855 NaN NaN  0.19635  0.098175  0.098175   9.8175\n",
       "2  SBEND  BM2T1R  0.855 NaN NaN  0.19635  0.098175  0.098175  20.1825\n",
       "3  SBEND  BM1D2R  0.855 NaN NaN  0.19635  0.098175  0.098175  24.8175\n",
       "4  SBEND  BM2D2R  0.855 NaN NaN  0.19635  0.098175  0.098175  35.1825"
      ]
     },
     "execution_count": 58,
     "metadata": {},
     "output_type": "execute_result"
    }
   ],
   "source": [
    "# load more complicated lattice\n",
    "lad = LatticeAdaptor()\n",
    "lad.load_from_file(\"bessy_base.seq\",ftype='madx')\n",
    "\n",
    "# filter the dipoles out\n",
    "dfdip = filter_family(lad.table,\"SBEND\")\n",
    "dfdip.head()"
   ]
  },
  {
   "cell_type": "code",
   "execution_count": 59,
   "metadata": {
    "scrolled": true
   },
   "outputs": [
    {
     "name": "stdout",
     "output_type": "stream",
     "text": [
      "Dipole length [m]       :     0.855000\n",
      "Dipole Bend Angle [rad] :     0.196350\n",
      "Dipole Bend Angle [deg] :    11.250000\n",
      "Dipole Bend Radius [m]  :     4.354479\n",
      "\n",
      "\n",
      "BM splitting angles               [deg] :     4.000000    5.625000    6.700000    9.250000   11.250000\n",
      "BM splitting angles  - cumulative [rad] :     0.069813    0.098175    0.116937    0.161443    0.196350\n",
      "BM splitting angles  - individual [rad] :     0.069813    0.028362    0.018762    0.044506    0.034907\n",
      "BM splitting lengths - cumulative [m]   :     0.304000    0.427500    0.509200    0.703000    0.855000\n",
      "BM splitting lengths - individual [m]   :     0.304000    0.123500    0.081700    0.193800    0.152000\n",
      "\n",
      "Dipole length [m]       :     0.855000\n",
      "Dipole Bend Angle [rad] :     0.196350\n",
      "Dipole Bend Angle [deg] :    11.250000\n",
      "Dipole Bend Radius [m]  :     4.354479\n",
      "\n",
      "\n",
      "BM splitting angles               [deg] :     2.000000    4.550000    5.625000    7.250000   11.250000\n",
      "BM splitting angles  - cumulative [rad] :     0.034907    0.079412    0.098175    0.126536    0.196350\n",
      "BM splitting angles  - individual [rad] :     0.034907    0.044506    0.018762    0.028362    0.069813\n",
      "BM splitting lengths - cumulative [m]   :     0.152000    0.345800    0.427500    0.551000    0.855000\n",
      "BM splitting lengths - individual [m]   :     0.152000    0.193800    0.081700    0.123500    0.304000\n",
      "\n",
      "Dipole length [m]       :     0.855000\n",
      "Dipole Bend Angle [rad] :     0.196350\n",
      "Dipole Bend Angle [deg] :    11.250000\n",
      "Dipole Bend Radius [m]  :     4.354479\n",
      "\n",
      "\n",
      "BM splitting angles               [deg] :     4.000000    5.625000    6.700000    9.250000   11.250000\n",
      "BM splitting angles  - cumulative [rad] :     0.069813    0.098175    0.116937    0.161443    0.196350\n",
      "BM splitting angles  - individual [rad] :     0.069813    0.028362    0.018762    0.044506    0.034907\n",
      "BM splitting lengths - cumulative [m]   :     0.304000    0.427500    0.509200    0.703000    0.855000\n",
      "BM splitting lengths - individual [m]   :     0.304000    0.123500    0.081700    0.193800    0.152000\n",
      "\n",
      "Dipole length [m]       :     0.855000\n",
      "Dipole Bend Angle [rad] :     0.196350\n",
      "Dipole Bend Angle [deg] :    11.250000\n",
      "Dipole Bend Radius [m]  :     4.354479\n",
      "\n",
      "\n",
      "BM splitting angles               [deg] :     2.000000    4.550000    5.625000    7.250000   11.250000\n",
      "BM splitting angles  - cumulative [rad] :     0.034907    0.079412    0.098175    0.126536    0.196350\n",
      "BM splitting angles  - individual [rad] :     0.034907    0.044506    0.018762    0.028362    0.069813\n",
      "BM splitting lengths - cumulative [m]   :     0.152000    0.345800    0.427500    0.551000    0.855000\n",
      "BM splitting lengths - individual [m]   :     0.152000    0.193800    0.081700    0.123500    0.304000\n",
      "\n",
      "Dipole length [m]       :     0.855000\n",
      "Dipole Bend Angle [rad] :     0.196350\n",
      "Dipole Bend Angle [deg] :    11.250000\n",
      "Dipole Bend Radius [m]  :     4.354479\n",
      "\n",
      "\n",
      "BM splitting angles               [deg] :     3.700000    4.000000    4.100000    4.300000    5.625000    6.700000    9.250000   11.250000\n",
      "BM splitting angles  - cumulative [rad] :     0.064577    0.069813    0.071558    0.075049    0.098175    0.116937    0.161443    0.196350\n",
      "BM splitting angles  - individual [rad] :     0.064577    0.005236    0.001745    0.003491    0.023126    0.018762    0.044506    0.034907\n",
      "BM splitting lengths - cumulative [m]   :     0.281200    0.304000    0.311600    0.326800    0.427500    0.509200    0.703000    0.855000\n",
      "BM splitting lengths - individual [m]   :     0.281200    0.022800    0.007600    0.015200    0.100700    0.081700    0.193800    0.152000\n",
      "\n",
      "Dipole length [m]       :     0.855000\n",
      "Dipole Bend Angle [rad] :     0.196350\n",
      "Dipole Bend Angle [deg] :    11.250000\n",
      "Dipole Bend Radius [m]  :     4.354479\n",
      "\n",
      "\n",
      "BM splitting angles               [deg] :     2.000000    4.550000    5.625000    7.250000   11.250000\n",
      "BM splitting angles  - cumulative [rad] :     0.034907    0.079412    0.098175    0.126536    0.196350\n",
      "BM splitting angles  - individual [rad] :     0.034907    0.044506    0.018762    0.028362    0.069813\n",
      "BM splitting lengths - cumulative [m]   :     0.152000    0.345800    0.427500    0.551000    0.855000\n",
      "BM splitting lengths - individual [m]   :     0.152000    0.193800    0.081700    0.123500    0.304000\n",
      "\n",
      "Dipole length [m]       :     0.855000\n",
      "Dipole Bend Angle [rad] :     0.196350\n",
      "Dipole Bend Angle [deg] :    11.250000\n",
      "Dipole Bend Radius [m]  :     4.354479\n",
      "\n",
      "\n",
      "BM splitting angles               [deg] :     4.000000    5.625000    6.700000    9.250000   11.250000\n",
      "BM splitting angles  - cumulative [rad] :     0.069813    0.098175    0.116937    0.161443    0.196350\n",
      "BM splitting angles  - individual [rad] :     0.069813    0.028362    0.018762    0.044506    0.034907\n",
      "BM splitting lengths - cumulative [m]   :     0.304000    0.427500    0.509200    0.703000    0.855000\n",
      "BM splitting lengths - individual [m]   :     0.304000    0.123500    0.081700    0.193800    0.152000\n",
      "\n",
      "Dipole length [m]       :     0.855000\n",
      "Dipole Bend Angle [rad] :     0.196350\n",
      "Dipole Bend Angle [deg] :    11.250000\n",
      "Dipole Bend Radius [m]  :     4.354479\n",
      "\n",
      "\n",
      "BM splitting angles               [deg] :     2.000000    4.550000    5.625000    7.250000   11.250000\n",
      "BM splitting angles  - cumulative [rad] :     0.034907    0.079412    0.098175    0.126536    0.196350\n",
      "BM splitting angles  - individual [rad] :     0.034907    0.044506    0.018762    0.028362    0.069813\n",
      "BM splitting lengths - cumulative [m]   :     0.152000    0.345800    0.427500    0.551000    0.855000\n",
      "BM splitting lengths - individual [m]   :     0.152000    0.193800    0.081700    0.123500    0.304000\n",
      "\n",
      "Dipole length [m]       :     0.855000\n",
      "Dipole Bend Angle [rad] :     0.196350\n",
      "Dipole Bend Angle [deg] :    11.250000\n",
      "Dipole Bend Radius [m]  :     4.354479\n",
      "\n",
      "\n",
      "BM splitting angles               [deg] :     4.000000    5.625000    6.700000    9.250000   11.250000\n",
      "BM splitting angles  - cumulative [rad] :     0.069813    0.098175    0.116937    0.161443    0.196350\n",
      "BM splitting angles  - individual [rad] :     0.069813    0.028362    0.018762    0.044506    0.034907\n",
      "BM splitting lengths - cumulative [m]   :     0.304000    0.427500    0.509200    0.703000    0.855000\n",
      "BM splitting lengths - individual [m]   :     0.304000    0.123500    0.081700    0.193800    0.152000\n",
      "\n",
      "Dipole length [m]       :     0.855000\n",
      "Dipole Bend Angle [rad] :     0.196350\n",
      "Dipole Bend Angle [deg] :    11.250000\n",
      "Dipole Bend Radius [m]  :     4.354479\n",
      "\n",
      "\n",
      "BM splitting angles               [deg] :     2.000000    4.550000    5.625000    7.250000   11.250000\n",
      "BM splitting angles  - cumulative [rad] :     0.034907    0.079412    0.098175    0.126536    0.196350\n",
      "BM splitting angles  - individual [rad] :     0.034907    0.044506    0.018762    0.028362    0.069813\n",
      "BM splitting lengths - cumulative [m]   :     0.152000    0.345800    0.427500    0.551000    0.855000\n",
      "BM splitting lengths - individual [m]   :     0.152000    0.193800    0.081700    0.123500    0.304000\n",
      "\n",
      "Dipole length [m]       :     0.855000\n",
      "Dipole Bend Angle [rad] :     0.196350\n",
      "Dipole Bend Angle [deg] :    11.250000\n",
      "Dipole Bend Radius [m]  :     4.354479\n",
      "\n",
      "\n",
      "BM splitting angles               [deg] :     4.000000    5.625000    6.700000    9.250000   11.250000\n",
      "BM splitting angles  - cumulative [rad] :     0.069813    0.098175    0.116937    0.161443    0.196350\n",
      "BM splitting angles  - individual [rad] :     0.069813    0.028362    0.018762    0.044506    0.034907\n",
      "BM splitting lengths - cumulative [m]   :     0.304000    0.427500    0.509200    0.703000    0.855000\n",
      "BM splitting lengths - individual [m]   :     0.304000    0.123500    0.081700    0.193800    0.152000\n",
      "\n",
      "Dipole length [m]       :     0.855000\n",
      "Dipole Bend Angle [rad] :     0.196350\n",
      "Dipole Bend Angle [deg] :    11.250000\n",
      "Dipole Bend Radius [m]  :     4.354479\n",
      "\n",
      "\n",
      "BM splitting angles               [deg] :     2.000000    4.550000    5.625000    7.250000   11.250000\n",
      "BM splitting angles  - cumulative [rad] :     0.034907    0.079412    0.098175    0.126536    0.196350\n",
      "BM splitting angles  - individual [rad] :     0.034907    0.044506    0.018762    0.028362    0.069813\n",
      "BM splitting lengths - cumulative [m]   :     0.152000    0.345800    0.427500    0.551000    0.855000\n",
      "BM splitting lengths - individual [m]   :     0.152000    0.193800    0.081700    0.123500    0.304000\n",
      "\n",
      "Dipole length [m]       :     0.855000\n",
      "Dipole Bend Angle [rad] :     0.196350\n",
      "Dipole Bend Angle [deg] :    11.250000\n",
      "Dipole Bend Radius [m]  :     4.354479\n",
      "\n",
      "\n",
      "BM splitting angles               [deg] :     4.000000    5.625000    6.700000    9.250000   11.250000\n",
      "BM splitting angles  - cumulative [rad] :     0.069813    0.098175    0.116937    0.161443    0.196350\n",
      "BM splitting angles  - individual [rad] :     0.069813    0.028362    0.018762    0.044506    0.034907\n",
      "BM splitting lengths - cumulative [m]   :     0.304000    0.427500    0.509200    0.703000    0.855000\n",
      "BM splitting lengths - individual [m]   :     0.304000    0.123500    0.081700    0.193800    0.152000\n",
      "\n",
      "Dipole length [m]       :     0.855000\n",
      "Dipole Bend Angle [rad] :     0.196350\n",
      "Dipole Bend Angle [deg] :    11.250000\n",
      "Dipole Bend Radius [m]  :     4.354479\n",
      "\n",
      "\n",
      "BM splitting angles               [deg] :     2.000000    4.550000    5.625000    7.250000   11.250000\n",
      "BM splitting angles  - cumulative [rad] :     0.034907    0.079412    0.098175    0.126536    0.196350\n",
      "BM splitting angles  - individual [rad] :     0.034907    0.044506    0.018762    0.028362    0.069813\n",
      "BM splitting lengths - cumulative [m]   :     0.152000    0.345800    0.427500    0.551000    0.855000\n",
      "BM splitting lengths - individual [m]   :     0.152000    0.193800    0.081700    0.123500    0.304000\n",
      "\n",
      "Dipole length [m]       :     0.855000\n",
      "Dipole Bend Angle [rad] :     0.196350\n",
      "Dipole Bend Angle [deg] :    11.250000\n",
      "Dipole Bend Radius [m]  :     4.354479\n",
      "\n",
      "\n",
      "BM splitting angles               [deg] :     4.000000    5.625000    6.700000    9.250000   11.250000\n",
      "BM splitting angles  - cumulative [rad] :     0.069813    0.098175    0.116937    0.161443    0.196350\n",
      "BM splitting angles  - individual [rad] :     0.069813    0.028362    0.018762    0.044506    0.034907\n",
      "BM splitting lengths - cumulative [m]   :     0.304000    0.427500    0.509200    0.703000    0.855000\n",
      "BM splitting lengths - individual [m]   :     0.304000    0.123500    0.081700    0.193800    0.152000\n",
      "\n",
      "Dipole length [m]       :     0.855000\n",
      "Dipole Bend Angle [rad] :     0.196350\n",
      "Dipole Bend Angle [deg] :    11.250000\n",
      "Dipole Bend Radius [m]  :     4.354479\n",
      "\n",
      "\n",
      "BM splitting angles               [deg] :     2.000000    4.550000    5.625000    7.250000   11.250000\n",
      "BM splitting angles  - cumulative [rad] :     0.034907    0.079412    0.098175    0.126536    0.196350\n",
      "BM splitting angles  - individual [rad] :     0.034907    0.044506    0.018762    0.028362    0.069813\n",
      "BM splitting lengths - cumulative [m]   :     0.152000    0.345800    0.427500    0.551000    0.855000\n",
      "BM splitting lengths - individual [m]   :     0.152000    0.193800    0.081700    0.123500    0.304000\n",
      "\n",
      "Dipole length [m]       :     0.855000\n",
      "Dipole Bend Angle [rad] :     0.196350\n",
      "Dipole Bend Angle [deg] :    11.250000\n",
      "Dipole Bend Radius [m]  :     4.354479\n",
      "\n",
      "\n",
      "BM splitting angles               [deg] :     3.658000    4.000000    4.129000    4.299000    5.625000    6.700000    9.250000   11.250000\n",
      "BM splitting angles  - cumulative [rad] :     0.063844    0.069813    0.072065    0.075032    0.098175    0.116937    0.161443    0.196350\n",
      "BM splitting angles  - individual [rad] :     0.063844    0.005969    0.002251    0.002967    0.023143    0.018762    0.044506    0.034907\n",
      "BM splitting lengths - cumulative [m]   :     0.278008    0.304000    0.313804    0.326724    0.427500    0.509200    0.703000    0.855000\n",
      "BM splitting lengths - individual [m]   :     0.278008    0.025992    0.009804    0.012920    0.100776    0.081700    0.193800    0.152000\n",
      "\n",
      "Dipole length [m]       :     0.855000\n",
      "Dipole Bend Angle [rad] :     0.196350\n",
      "Dipole Bend Angle [deg] :    11.250000\n",
      "Dipole Bend Radius [m]  :     4.354479\n",
      "\n",
      "\n",
      "BM splitting angles               [deg] :     2.000000    4.550000    5.625000    7.250000   11.250000\n",
      "BM splitting angles  - cumulative [rad] :     0.034907    0.079412    0.098175    0.126536    0.196350\n",
      "BM splitting angles  - individual [rad] :     0.034907    0.044506    0.018762    0.028362    0.069813\n",
      "BM splitting lengths - cumulative [m]   :     0.152000    0.345800    0.427500    0.551000    0.855000\n",
      "BM splitting lengths - individual [m]   :     0.152000    0.193800    0.081700    0.123500    0.304000\n",
      "\n",
      "Dipole length [m]       :     0.855000\n",
      "Dipole Bend Angle [rad] :     0.196350\n",
      "Dipole Bend Angle [deg] :    11.250000\n",
      "Dipole Bend Radius [m]  :     4.354479\n",
      "\n",
      "\n",
      "BM splitting angles               [deg] :     4.000000    5.625000    6.700000    9.250000   11.250000\n",
      "BM splitting angles  - cumulative [rad] :     0.069813    0.098175    0.116937    0.161443    0.196350\n",
      "BM splitting angles  - individual [rad] :     0.069813    0.028362    0.018762    0.044506    0.034907\n",
      "BM splitting lengths - cumulative [m]   :     0.304000    0.427500    0.509200    0.703000    0.855000\n",
      "BM splitting lengths - individual [m]   :     0.304000    0.123500    0.081700    0.193800    0.152000\n",
      "\n",
      "Dipole length [m]       :     0.855000\n",
      "Dipole Bend Angle [rad] :     0.196350\n",
      "Dipole Bend Angle [deg] :    11.250000\n",
      "Dipole Bend Radius [m]  :     4.354479\n",
      "\n",
      "\n",
      "BM splitting angles               [deg] :     2.000000    4.550000    5.625000    7.250000   11.250000\n",
      "BM splitting angles  - cumulative [rad] :     0.034907    0.079412    0.098175    0.126536    0.196350\n",
      "BM splitting angles  - individual [rad] :     0.034907    0.044506    0.018762    0.028362    0.069813\n",
      "BM splitting lengths - cumulative [m]   :     0.152000    0.345800    0.427500    0.551000    0.855000\n",
      "BM splitting lengths - individual [m]   :     0.152000    0.193800    0.081700    0.123500    0.304000\n",
      "\n",
      "Dipole length [m]       :     0.855000\n",
      "Dipole Bend Angle [rad] :     0.196350\n",
      "Dipole Bend Angle [deg] :    11.250000\n",
      "Dipole Bend Radius [m]  :     4.354479\n",
      "\n",
      "\n",
      "BM splitting angles               [deg] :     4.000000    5.625000    6.700000    9.250000   11.250000\n",
      "BM splitting angles  - cumulative [rad] :     0.069813    0.098175    0.116937    0.161443    0.196350\n",
      "BM splitting angles  - individual [rad] :     0.069813    0.028362    0.018762    0.044506    0.034907\n",
      "BM splitting lengths - cumulative [m]   :     0.304000    0.427500    0.509200    0.703000    0.855000\n",
      "BM splitting lengths - individual [m]   :     0.304000    0.123500    0.081700    0.193800    0.152000\n",
      "\n",
      "Dipole length [m]       :     0.855000\n",
      "Dipole Bend Angle [rad] :     0.196350\n",
      "Dipole Bend Angle [deg] :    11.250000\n",
      "Dipole Bend Radius [m]  :     4.354479\n",
      "\n",
      "\n",
      "BM splitting angles               [deg] :     2.000000    4.550000    5.625000    7.250000   11.250000\n",
      "BM splitting angles  - cumulative [rad] :     0.034907    0.079412    0.098175    0.126536    0.196350\n",
      "BM splitting angles  - individual [rad] :     0.034907    0.044506    0.018762    0.028362    0.069813\n",
      "BM splitting lengths - cumulative [m]   :     0.152000    0.345800    0.427500    0.551000    0.855000\n",
      "BM splitting lengths - individual [m]   :     0.152000    0.193800    0.081700    0.123500    0.304000\n",
      "\n",
      "Dipole length [m]       :     0.855000\n",
      "Dipole Bend Angle [rad] :     0.196350\n",
      "Dipole Bend Angle [deg] :    11.250000\n",
      "Dipole Bend Radius [m]  :     4.354479\n",
      "\n",
      "\n",
      "BM splitting angles               [deg] :     4.000000    5.625000    6.700000    9.250000   11.250000\n",
      "BM splitting angles  - cumulative [rad] :     0.069813    0.098175    0.116937    0.161443    0.196350\n",
      "BM splitting angles  - individual [rad] :     0.069813    0.028362    0.018762    0.044506    0.034907\n",
      "BM splitting lengths - cumulative [m]   :     0.304000    0.427500    0.509200    0.703000    0.855000\n",
      "BM splitting lengths - individual [m]   :     0.304000    0.123500    0.081700    0.193800    0.152000\n",
      "\n",
      "Dipole length [m]       :     0.855000\n",
      "Dipole Bend Angle [rad] :     0.196350\n",
      "Dipole Bend Angle [deg] :    11.250000\n",
      "Dipole Bend Radius [m]  :     4.354479\n",
      "\n",
      "\n",
      "BM splitting angles               [deg] :     2.000000    4.550000    5.625000    7.250000   11.250000\n",
      "BM splitting angles  - cumulative [rad] :     0.034907    0.079412    0.098175    0.126536    0.196350\n",
      "BM splitting angles  - individual [rad] :     0.034907    0.044506    0.018762    0.028362    0.069813\n",
      "BM splitting lengths - cumulative [m]   :     0.152000    0.345800    0.427500    0.551000    0.855000\n",
      "BM splitting lengths - individual [m]   :     0.152000    0.193800    0.081700    0.123500    0.304000\n",
      "\n",
      "Dipole length [m]       :     0.855000\n",
      "Dipole Bend Angle [rad] :     0.196350\n",
      "Dipole Bend Angle [deg] :    11.250000\n",
      "Dipole Bend Radius [m]  :     4.354479\n",
      "\n",
      "\n",
      "BM splitting angles               [deg] :     4.000000    5.625000    6.700000    9.250000   11.250000\n",
      "BM splitting angles  - cumulative [rad] :     0.069813    0.098175    0.116937    0.161443    0.196350\n",
      "BM splitting angles  - individual [rad] :     0.069813    0.028362    0.018762    0.044506    0.034907\n",
      "BM splitting lengths - cumulative [m]   :     0.304000    0.427500    0.509200    0.703000    0.855000\n",
      "BM splitting lengths - individual [m]   :     0.304000    0.123500    0.081700    0.193800    0.152000\n",
      "\n",
      "Dipole length [m]       :     0.855000\n",
      "Dipole Bend Angle [rad] :     0.196350\n",
      "Dipole Bend Angle [deg] :    11.250000\n",
      "Dipole Bend Radius [m]  :     4.354479\n",
      "\n",
      "\n",
      "BM splitting angles               [deg] :     2.000000    4.550000    5.625000    7.250000   11.250000\n",
      "BM splitting angles  - cumulative [rad] :     0.034907    0.079412    0.098175    0.126536    0.196350\n",
      "BM splitting angles  - individual [rad] :     0.034907    0.044506    0.018762    0.028362    0.069813\n",
      "BM splitting lengths - cumulative [m]   :     0.152000    0.345800    0.427500    0.551000    0.855000\n",
      "BM splitting lengths - individual [m]   :     0.152000    0.193800    0.081700    0.123500    0.304000\n",
      "\n",
      "Dipole length [m]       :     0.855000\n",
      "Dipole Bend Angle [rad] :     0.196350\n",
      "Dipole Bend Angle [deg] :    11.250000\n",
      "Dipole Bend Radius [m]  :     4.354479\n",
      "\n",
      "\n",
      "BM splitting angles               [deg] :     4.000000    5.625000    6.700000    9.250000   11.250000\n",
      "BM splitting angles  - cumulative [rad] :     0.069813    0.098175    0.116937    0.161443    0.196350\n",
      "BM splitting angles  - individual [rad] :     0.069813    0.028362    0.018762    0.044506    0.034907\n",
      "BM splitting lengths - cumulative [m]   :     0.304000    0.427500    0.509200    0.703000    0.855000\n",
      "BM splitting lengths - individual [m]   :     0.304000    0.123500    0.081700    0.193800    0.152000\n",
      "\n",
      "Dipole length [m]       :     0.855000\n",
      "Dipole Bend Angle [rad] :     0.196350\n",
      "Dipole Bend Angle [deg] :    11.250000\n",
      "Dipole Bend Radius [m]  :     4.354479\n",
      "\n",
      "\n",
      "BM splitting angles               [deg] :     2.000000    4.550000    5.625000    7.250000   11.250000\n",
      "BM splitting angles  - cumulative [rad] :     0.034907    0.079412    0.098175    0.126536    0.196350\n",
      "BM splitting angles  - individual [rad] :     0.034907    0.044506    0.018762    0.028362    0.069813\n",
      "BM splitting lengths - cumulative [m]   :     0.152000    0.345800    0.427500    0.551000    0.855000\n",
      "BM splitting lengths - individual [m]   :     0.152000    0.193800    0.081700    0.123500    0.304000\n",
      "\n",
      "Dipole length [m]       :     0.855000\n",
      "Dipole Bend Angle [rad] :     0.196350\n",
      "Dipole Bend Angle [deg] :    11.250000\n",
      "Dipole Bend Radius [m]  :     4.354479\n",
      "\n",
      "\n",
      "BM splitting angles               [deg] :     4.000000    5.625000    6.700000    9.250000   11.250000\n",
      "BM splitting angles  - cumulative [rad] :     0.069813    0.098175    0.116937    0.161443    0.196350\n",
      "BM splitting angles  - individual [rad] :     0.069813    0.028362    0.018762    0.044506    0.034907\n",
      "BM splitting lengths - cumulative [m]   :     0.304000    0.427500    0.509200    0.703000    0.855000\n",
      "BM splitting lengths - individual [m]   :     0.304000    0.123500    0.081700    0.193800    0.152000\n",
      "\n",
      "Dipole length [m]       :     0.855000\n",
      "Dipole Bend Angle [rad] :     0.196350\n",
      "Dipole Bend Angle [deg] :    11.250000\n",
      "Dipole Bend Radius [m]  :     4.354479\n",
      "\n",
      "\n",
      "BM splitting angles               [deg] :     2.000000    4.550000    5.625000    7.250000   11.250000\n",
      "BM splitting angles  - cumulative [rad] :     0.034907    0.079412    0.098175    0.126536    0.196350\n",
      "BM splitting angles  - individual [rad] :     0.034907    0.044506    0.018762    0.028362    0.069813\n",
      "BM splitting lengths - cumulative [m]   :     0.152000    0.345800    0.427500    0.551000    0.855000\n",
      "BM splitting lengths - individual [m]   :     0.152000    0.193800    0.081700    0.123500    0.304000\n",
      "\n",
      "Dipole length [m]       :     0.855000\n",
      "Dipole Bend Angle [rad] :     0.196350\n",
      "Dipole Bend Angle [deg] :    11.250000\n",
      "Dipole Bend Radius [m]  :     4.354479\n",
      "\n",
      "\n",
      "BM splitting angles               [deg] :     4.000000    5.625000    6.700000    9.250000   11.250000\n",
      "BM splitting angles  - cumulative [rad] :     0.069813    0.098175    0.116937    0.161443    0.196350\n",
      "BM splitting angles  - individual [rad] :     0.069813    0.028362    0.018762    0.044506    0.034907\n",
      "BM splitting lengths - cumulative [m]   :     0.304000    0.427500    0.509200    0.703000    0.855000\n",
      "BM splitting lengths - individual [m]   :     0.304000    0.123500    0.081700    0.193800    0.152000\n",
      "\n",
      "Dipole length [m]       :     0.855000\n",
      "Dipole Bend Angle [rad] :     0.196350\n",
      "Dipole Bend Angle [deg] :    11.250000\n",
      "Dipole Bend Radius [m]  :     4.354479\n",
      "\n",
      "\n",
      "BM splitting angles               [deg] :     2.000000    4.550000    5.625000    7.250000   11.250000\n",
      "BM splitting angles  - cumulative [rad] :     0.034907    0.079412    0.098175    0.126536    0.196350\n",
      "BM splitting angles  - individual [rad] :     0.034907    0.044506    0.018762    0.028362    0.069813\n",
      "BM splitting lengths - cumulative [m]   :     0.152000    0.345800    0.427500    0.551000    0.855000\n",
      "BM splitting lengths - individual [m]   :     0.152000    0.193800    0.081700    0.123500    0.304000\n",
      "\n"
     ]
    }
   ],
   "source": [
    "# dipole values\n",
    "dipole_length         = 0.855\n",
    "dipole_bend_angle_rad = np.pi / 16\n",
    "dipole_bend_angle_deg = np.rad2deg(dipole_bend_angle_rad)\n",
    "dipole_bend_radius    = dipole_length / dipole_bend_angle_rad\n",
    "\n",
    "# general splitting\n",
    "split_angles_BM2_deg  = [4.0, 6.7, dipole_bend_angle_deg -2.0]\n",
    "split_angles_BM1_deg  = [2.0, dipole_bend_angle_deg - 6.7, dipole_bend_angle_deg - 4.0]\n",
    "\n",
    "# special splitting - minus signs due to BM2 magnets \n",
    "split_angles_special = {\n",
    "    \"BM2D2R\" : sorted(\n",
    "    [\n",
    "        3.7,\n",
    "        4.0,\n",
    "        4.1,\n",
    "        4.3,\n",
    "        6.7,\n",
    "        dipole_bend_angle_deg - 2.0, \n",
    "    ]  \n",
    "),\n",
    "    \"BM2D5R\" : sorted(\n",
    "    [\n",
    "        3.6580,\n",
    "        4.0,\n",
    "        4.129,\n",
    "        4.299,\n",
    "        6.7,\n",
    "        dipole_bend_angle_deg - 2.0,\n",
    "    ] \n",
    ")\n",
    "}\n",
    "        \n",
    "# add all the splitings to a single dict\n",
    "splitting_dict  = {}\n",
    "\n",
    "for i, row in dfdip.iterrows():\n",
    "    if row[\"name\"] not in list(split_angles_special.keys()):\n",
    "        if \"BM1\" in row[\"name\"]:\n",
    "            angle_list = split_angles_BM1_deg\n",
    "            \n",
    "        elif \"BM2\" in row[\"name\"]:\n",
    "            angle_list = split_angles_BM2_deg\n",
    "            \n",
    "        else:\n",
    "            print(\"NOK\")\n",
    "            break\n",
    "        \n",
    "    else:\n",
    "        angle_list = split_angles_special[row[\"name\"]]\n",
    "\n",
    "        \n",
    "    splitting_dict = {**splitting_dict,**dipole_split_angles_to_dict(row[\"name\"], row.L, row.ANGLE, angle_list, verbose=True)}"
   ]
  },
  {
   "cell_type": "code",
   "execution_count": 60,
   "metadata": {},
   "outputs": [
    {
     "data": {
      "text/plain": [
       "{'lengths': array([0.304 , 0.1235, 0.0817, 0.1938, 0.152 ]),\n",
       " 'angles': array([0.06981317, 0.0283616 , 0.01876229, 0.0445059 , 0.03490658])}"
      ]
     },
     "execution_count": 60,
     "metadata": {},
     "output_type": "execute_result"
    }
   ],
   "source": [
    "# check one of the entries\n",
    "splitting_dict['BM2D1R']"
   ]
  },
  {
   "cell_type": "code",
   "execution_count": 61,
   "metadata": {},
   "outputs": [],
   "source": [
    "# create a table containing the beamport markers\n",
    "\n",
    "# split the dipoles and add the markers (auto-named)\n",
    "dfbeamports = split_dipoles(dfdip, splitting_dict, dipole_bend_angle_rad/2.0)\n",
    "\n",
    "# update the pos\n",
    "dfbeamports['pos'] = dfbeamports['at']\n",
    "dfbeamports = dfbeamports.sort_values(by=\"pos\").reset_index(drop=True)"
   ]
  },
  {
   "cell_type": "code",
   "execution_count": 62,
   "metadata": {},
   "outputs": [
    {
     "data": {
      "text/html": [
       "<div>\n",
       "<style scoped>\n",
       "    .dataframe tbody tr th:only-of-type {\n",
       "        vertical-align: middle;\n",
       "    }\n",
       "\n",
       "    .dataframe tbody tr th {\n",
       "        vertical-align: top;\n",
       "    }\n",
       "\n",
       "    .dataframe thead th {\n",
       "        text-align: right;\n",
       "    }\n",
       "</style>\n",
       "<table border=\"1\" class=\"dataframe\">\n",
       "  <thead>\n",
       "    <tr style=\"text-align: right;\">\n",
       "      <th></th>\n",
       "      <th>L</th>\n",
       "      <th>at</th>\n",
       "      <th>family</th>\n",
       "      <th>name</th>\n",
       "      <th>pos</th>\n",
       "      <th>ANGLE</th>\n",
       "      <th>E1</th>\n",
       "      <th>E2</th>\n",
       "      <th>K1</th>\n",
       "      <th>K2</th>\n",
       "    </tr>\n",
       "  </thead>\n",
       "  <tbody>\n",
       "    <tr>\n",
       "      <th>0</th>\n",
       "      <td>0.3040</td>\n",
       "      <td>4.90700</td>\n",
       "      <td>SBEND</td>\n",
       "      <td>BM2D1R1_4p00_deg</td>\n",
       "      <td>4.90700</td>\n",
       "      <td>0.069813</td>\n",
       "      <td>0.098175</td>\n",
       "      <td>0.000000</td>\n",
       "      <td>NaN</td>\n",
       "      <td>NaN</td>\n",
       "    </tr>\n",
       "    <tr>\n",
       "      <th>1</th>\n",
       "      <td>0.0000</td>\n",
       "      <td>5.05900</td>\n",
       "      <td>MARKER</td>\n",
       "      <td>MBEAMPORT_2A1</td>\n",
       "      <td>5.05900</td>\n",
       "      <td>NaN</td>\n",
       "      <td>NaN</td>\n",
       "      <td>NaN</td>\n",
       "      <td>NaN</td>\n",
       "      <td>NaN</td>\n",
       "    </tr>\n",
       "    <tr>\n",
       "      <th>2</th>\n",
       "      <td>0.1235</td>\n",
       "      <td>5.12075</td>\n",
       "      <td>SBEND</td>\n",
       "      <td>BM2D1R1_5p62_deg</td>\n",
       "      <td>5.12075</td>\n",
       "      <td>0.028362</td>\n",
       "      <td>0.000000</td>\n",
       "      <td>0.000000</td>\n",
       "      <td>NaN</td>\n",
       "      <td>NaN</td>\n",
       "    </tr>\n",
       "    <tr>\n",
       "      <th>3</th>\n",
       "      <td>0.0000</td>\n",
       "      <td>5.18250</td>\n",
       "      <td>MARKER</td>\n",
       "      <td>MBM2D1R_MIDDLE</td>\n",
       "      <td>5.18250</td>\n",
       "      <td>NaN</td>\n",
       "      <td>NaN</td>\n",
       "      <td>NaN</td>\n",
       "      <td>NaN</td>\n",
       "      <td>NaN</td>\n",
       "    </tr>\n",
       "    <tr>\n",
       "      <th>4</th>\n",
       "      <td>0.0817</td>\n",
       "      <td>5.22335</td>\n",
       "      <td>SBEND</td>\n",
       "      <td>BM2D1R2_6p70_deg</td>\n",
       "      <td>5.22335</td>\n",
       "      <td>0.018762</td>\n",
       "      <td>0.000000</td>\n",
       "      <td>0.000000</td>\n",
       "      <td>NaN</td>\n",
       "      <td>NaN</td>\n",
       "    </tr>\n",
       "    <tr>\n",
       "      <th>5</th>\n",
       "      <td>0.0000</td>\n",
       "      <td>5.26420</td>\n",
       "      <td>MARKER</td>\n",
       "      <td>MBEAMPORT_2B1</td>\n",
       "      <td>5.26420</td>\n",
       "      <td>NaN</td>\n",
       "      <td>NaN</td>\n",
       "      <td>NaN</td>\n",
       "      <td>NaN</td>\n",
       "      <td>NaN</td>\n",
       "    </tr>\n",
       "    <tr>\n",
       "      <th>6</th>\n",
       "      <td>0.1938</td>\n",
       "      <td>5.36110</td>\n",
       "      <td>SBEND</td>\n",
       "      <td>BM2D1R2_9p25_deg</td>\n",
       "      <td>5.36110</td>\n",
       "      <td>0.044506</td>\n",
       "      <td>0.000000</td>\n",
       "      <td>0.000000</td>\n",
       "      <td>NaN</td>\n",
       "      <td>NaN</td>\n",
       "    </tr>\n",
       "    <tr>\n",
       "      <th>7</th>\n",
       "      <td>0.0000</td>\n",
       "      <td>5.45800</td>\n",
       "      <td>MARKER</td>\n",
       "      <td>MBEAMPORT_2B2</td>\n",
       "      <td>5.45800</td>\n",
       "      <td>NaN</td>\n",
       "      <td>NaN</td>\n",
       "      <td>NaN</td>\n",
       "      <td>NaN</td>\n",
       "      <td>NaN</td>\n",
       "    </tr>\n",
       "    <tr>\n",
       "      <th>8</th>\n",
       "      <td>0.1520</td>\n",
       "      <td>5.53400</td>\n",
       "      <td>SBEND</td>\n",
       "      <td>BM2D1R2_11p25_deg</td>\n",
       "      <td>5.53400</td>\n",
       "      <td>0.034907</td>\n",
       "      <td>0.000000</td>\n",
       "      <td>0.098175</td>\n",
       "      <td>NaN</td>\n",
       "      <td>NaN</td>\n",
       "    </tr>\n",
       "    <tr>\n",
       "      <th>9</th>\n",
       "      <td>0.1520</td>\n",
       "      <td>9.46600</td>\n",
       "      <td>SBEND</td>\n",
       "      <td>BM1T1R1_2p00_deg</td>\n",
       "      <td>9.46600</td>\n",
       "      <td>0.034907</td>\n",
       "      <td>0.098175</td>\n",
       "      <td>0.000000</td>\n",
       "      <td>NaN</td>\n",
       "      <td>NaN</td>\n",
       "    </tr>\n",
       "  </tbody>\n",
       "</table>\n",
       "</div>"
      ],
      "text/plain": [
       "        L       at  family               name      pos     ANGLE        E1  \\\n",
       "0  0.3040  4.90700   SBEND   BM2D1R1_4p00_deg  4.90700  0.069813  0.098175   \n",
       "1  0.0000  5.05900  MARKER      MBEAMPORT_2A1  5.05900       NaN       NaN   \n",
       "2  0.1235  5.12075   SBEND   BM2D1R1_5p62_deg  5.12075  0.028362  0.000000   \n",
       "3  0.0000  5.18250  MARKER     MBM2D1R_MIDDLE  5.18250       NaN       NaN   \n",
       "4  0.0817  5.22335   SBEND   BM2D1R2_6p70_deg  5.22335  0.018762  0.000000   \n",
       "5  0.0000  5.26420  MARKER      MBEAMPORT_2B1  5.26420       NaN       NaN   \n",
       "6  0.1938  5.36110   SBEND   BM2D1R2_9p25_deg  5.36110  0.044506  0.000000   \n",
       "7  0.0000  5.45800  MARKER      MBEAMPORT_2B2  5.45800       NaN       NaN   \n",
       "8  0.1520  5.53400   SBEND  BM2D1R2_11p25_deg  5.53400  0.034907  0.000000   \n",
       "9  0.1520  9.46600   SBEND   BM1T1R1_2p00_deg  9.46600  0.034907  0.098175   \n",
       "\n",
       "         E2  K1  K2  \n",
       "0  0.000000 NaN NaN  \n",
       "1       NaN NaN NaN  \n",
       "2  0.000000 NaN NaN  \n",
       "3       NaN NaN NaN  \n",
       "4  0.000000 NaN NaN  \n",
       "5       NaN NaN NaN  \n",
       "6  0.000000 NaN NaN  \n",
       "7       NaN NaN NaN  \n",
       "8  0.098175 NaN NaN  \n",
       "9  0.000000 NaN NaN  "
      ]
     },
     "execution_count": 62,
     "metadata": {},
     "output_type": "execute_result"
    }
   ],
   "source": [
    "dfbeamports.head(10)"
   ]
  },
  {
   "cell_type": "code",
   "execution_count": 63,
   "metadata": {},
   "outputs": [
    {
     "data": {
      "text/html": [
       "<div>\n",
       "<style scoped>\n",
       "    .dataframe tbody tr th:only-of-type {\n",
       "        vertical-align: middle;\n",
       "    }\n",
       "\n",
       "    .dataframe tbody tr th {\n",
       "        vertical-align: top;\n",
       "    }\n",
       "\n",
       "    .dataframe thead th {\n",
       "        text-align: right;\n",
       "    }\n",
       "</style>\n",
       "<table border=\"1\" class=\"dataframe\">\n",
       "  <thead>\n",
       "    <tr style=\"text-align: right;\">\n",
       "      <th></th>\n",
       "      <th>L</th>\n",
       "      <th>at</th>\n",
       "      <th>family</th>\n",
       "      <th>name</th>\n",
       "      <th>pos</th>\n",
       "      <th>ANGLE</th>\n",
       "      <th>E1</th>\n",
       "      <th>E2</th>\n",
       "      <th>K1</th>\n",
       "      <th>K2</th>\n",
       "      <th>sector</th>\n",
       "    </tr>\n",
       "  </thead>\n",
       "  <tbody>\n",
       "    <tr>\n",
       "      <th>27</th>\n",
       "      <td>0.1520</td>\n",
       "      <td>24.46600</td>\n",
       "      <td>SBEND</td>\n",
       "      <td>BM1D2R1_2p00_deg</td>\n",
       "      <td>24.46600</td>\n",
       "      <td>0.034907</td>\n",
       "      <td>0.098175</td>\n",
       "      <td>0.0</td>\n",
       "      <td>NaN</td>\n",
       "      <td>NaN</td>\n",
       "      <td>D2</td>\n",
       "    </tr>\n",
       "    <tr>\n",
       "      <th>28</th>\n",
       "      <td>0.0000</td>\n",
       "      <td>24.54200</td>\n",
       "      <td>MARKER</td>\n",
       "      <td>MBEAMPORT_1A1</td>\n",
       "      <td>24.54200</td>\n",
       "      <td>NaN</td>\n",
       "      <td>NaN</td>\n",
       "      <td>NaN</td>\n",
       "      <td>NaN</td>\n",
       "      <td>NaN</td>\n",
       "      <td>D2</td>\n",
       "    </tr>\n",
       "    <tr>\n",
       "      <th>29</th>\n",
       "      <td>0.1938</td>\n",
       "      <td>24.63890</td>\n",
       "      <td>SBEND</td>\n",
       "      <td>BM1D2R1_4p55_deg</td>\n",
       "      <td>24.63890</td>\n",
       "      <td>0.044506</td>\n",
       "      <td>0.000000</td>\n",
       "      <td>0.0</td>\n",
       "      <td>NaN</td>\n",
       "      <td>NaN</td>\n",
       "      <td>D2</td>\n",
       "    </tr>\n",
       "    <tr>\n",
       "      <th>30</th>\n",
       "      <td>0.0000</td>\n",
       "      <td>24.73580</td>\n",
       "      <td>MARKER</td>\n",
       "      <td>MBEAMPORT_1A2</td>\n",
       "      <td>24.73580</td>\n",
       "      <td>NaN</td>\n",
       "      <td>NaN</td>\n",
       "      <td>NaN</td>\n",
       "      <td>NaN</td>\n",
       "      <td>NaN</td>\n",
       "      <td>D2</td>\n",
       "    </tr>\n",
       "    <tr>\n",
       "      <th>31</th>\n",
       "      <td>0.0817</td>\n",
       "      <td>24.77665</td>\n",
       "      <td>SBEND</td>\n",
       "      <td>BM1D2R1_5p62_deg</td>\n",
       "      <td>24.77665</td>\n",
       "      <td>0.018762</td>\n",
       "      <td>0.000000</td>\n",
       "      <td>0.0</td>\n",
       "      <td>NaN</td>\n",
       "      <td>NaN</td>\n",
       "      <td>D2</td>\n",
       "    </tr>\n",
       "  </tbody>\n",
       "</table>\n",
       "</div>"
      ],
      "text/plain": [
       "         L        at  family              name       pos     ANGLE        E1  \\\n",
       "27  0.1520  24.46600   SBEND  BM1D2R1_2p00_deg  24.46600  0.034907  0.098175   \n",
       "28  0.0000  24.54200  MARKER     MBEAMPORT_1A1  24.54200       NaN       NaN   \n",
       "29  0.1938  24.63890   SBEND  BM1D2R1_4p55_deg  24.63890  0.044506  0.000000   \n",
       "30  0.0000  24.73580  MARKER     MBEAMPORT_1A2  24.73580       NaN       NaN   \n",
       "31  0.0817  24.77665   SBEND  BM1D2R1_5p62_deg  24.77665  0.018762  0.000000   \n",
       "\n",
       "     E2  K1  K2 sector  \n",
       "27  0.0 NaN NaN     D2  \n",
       "28  NaN NaN NaN     D2  \n",
       "29  0.0 NaN NaN     D2  \n",
       "30  NaN NaN NaN     D2  \n",
       "31  0.0 NaN NaN     D2  "
      ]
     },
     "execution_count": 63,
     "metadata": {},
     "output_type": "execute_result"
    }
   ],
   "source": [
    "# sort, add sectors\n",
    "dfbeamportssec = dfbeamports.copy().sort_values(by=\"pos\").reset_index(drop=True)\n",
    "dfbeamportssec['sector'] = dfbeamportssec[\"name\"].apply(lambda x: x[3:5] if (not \"PORT\" in x) and not \"MIDDLE\" in x else np.nan)\n",
    "dfbeamportssec[\"sector\"] = dfbeamportssec[\"sector\"].fillna(method=\"ffill\")\n",
    "\n",
    "# check out the D2 sector\n",
    "dfbeamportssec.loc[dfbeamportssec.sector==\"D2\"].sort_values(by=\"pos\").head()"
   ]
  },
  {
   "cell_type": "code",
   "execution_count": 64,
   "metadata": {},
   "outputs": [
    {
     "data": {
      "text/html": [
       "<style  type=\"text/css\" >\n",
       "#T_fb529_row0_col0,#T_fb529_row0_col1,#T_fb529_row0_col2,#T_fb529_row0_col3,#T_fb529_row0_col4,#T_fb529_row0_col5,#T_fb529_row0_col6,#T_fb529_row0_col7,#T_fb529_row0_col8,#T_fb529_row0_col9,#T_fb529_row0_col10,#T_fb529_row4_col0,#T_fb529_row4_col1,#T_fb529_row4_col2,#T_fb529_row4_col3,#T_fb529_row4_col4,#T_fb529_row4_col5,#T_fb529_row4_col6,#T_fb529_row4_col7,#T_fb529_row4_col8,#T_fb529_row4_col9,#T_fb529_row4_col10,#T_fb529_row6_col0,#T_fb529_row6_col1,#T_fb529_row6_col2,#T_fb529_row6_col3,#T_fb529_row6_col4,#T_fb529_row6_col5,#T_fb529_row6_col6,#T_fb529_row6_col7,#T_fb529_row6_col8,#T_fb529_row6_col9,#T_fb529_row6_col10{\n",
       "            background-color:  orange;\n",
       "        }#T_fb529_row1_col0,#T_fb529_row1_col1,#T_fb529_row1_col2,#T_fb529_row1_col3,#T_fb529_row1_col4,#T_fb529_row1_col5,#T_fb529_row1_col6,#T_fb529_row1_col7,#T_fb529_row1_col8,#T_fb529_row1_col9,#T_fb529_row1_col10,#T_fb529_row5_col0,#T_fb529_row5_col1,#T_fb529_row5_col2,#T_fb529_row5_col3,#T_fb529_row5_col4,#T_fb529_row5_col5,#T_fb529_row5_col6,#T_fb529_row5_col7,#T_fb529_row5_col8,#T_fb529_row5_col9,#T_fb529_row5_col10,#T_fb529_row7_col0,#T_fb529_row7_col1,#T_fb529_row7_col2,#T_fb529_row7_col3,#T_fb529_row7_col4,#T_fb529_row7_col5,#T_fb529_row7_col6,#T_fb529_row7_col7,#T_fb529_row7_col8,#T_fb529_row7_col9,#T_fb529_row7_col10{\n",
       "            background-color:  yellow;\n",
       "        }</style><table id=\"T_fb529_\" ><thead>    <tr>        <th class=\"blank level0\" ></th>        <th class=\"col_heading level0 col0\" >L</th>        <th class=\"col_heading level0 col1\" >at</th>        <th class=\"col_heading level0 col2\" >family</th>        <th class=\"col_heading level0 col3\" >name</th>        <th class=\"col_heading level0 col4\" >pos</th>        <th class=\"col_heading level0 col5\" >ANGLE</th>        <th class=\"col_heading level0 col6\" >E1</th>        <th class=\"col_heading level0 col7\" >E2</th>        <th class=\"col_heading level0 col8\" >K1</th>        <th class=\"col_heading level0 col9\" >K2</th>        <th class=\"col_heading level0 col10\" >sector</th>    </tr></thead><tbody>\n",
       "                <tr>\n",
       "                        <th id=\"T_fb529_level0_row0\" class=\"row_heading level0 row0\" >36</th>\n",
       "                        <td id=\"T_fb529_row0_col0\" class=\"data row0 col0\" >0.281200</td>\n",
       "                        <td id=\"T_fb529_row0_col1\" class=\"data row0 col1\" >34.895600</td>\n",
       "                        <td id=\"T_fb529_row0_col2\" class=\"data row0 col2\" >SBEND</td>\n",
       "                        <td id=\"T_fb529_row0_col3\" class=\"data row0 col3\" >BM2D2R1_3p70_deg</td>\n",
       "                        <td id=\"T_fb529_row0_col4\" class=\"data row0 col4\" >34.895600</td>\n",
       "                        <td id=\"T_fb529_row0_col5\" class=\"data row0 col5\" >0.064577</td>\n",
       "                        <td id=\"T_fb529_row0_col6\" class=\"data row0 col6\" >0.098175</td>\n",
       "                        <td id=\"T_fb529_row0_col7\" class=\"data row0 col7\" >0.000000</td>\n",
       "                        <td id=\"T_fb529_row0_col8\" class=\"data row0 col8\" >nan</td>\n",
       "                        <td id=\"T_fb529_row0_col9\" class=\"data row0 col9\" >nan</td>\n",
       "                        <td id=\"T_fb529_row0_col10\" class=\"data row0 col10\" >D2</td>\n",
       "            </tr>\n",
       "            <tr>\n",
       "                        <th id=\"T_fb529_level0_row1\" class=\"row_heading level0 row1\" >37</th>\n",
       "                        <td id=\"T_fb529_row1_col0\" class=\"data row1 col0\" >0.000000</td>\n",
       "                        <td id=\"T_fb529_row1_col1\" class=\"data row1 col1\" >35.036200</td>\n",
       "                        <td id=\"T_fb529_row1_col2\" class=\"data row1 col2\" >MARKER</td>\n",
       "                        <td id=\"T_fb529_row1_col3\" class=\"data row1 col3\" >MBEAMPORT_2A1</td>\n",
       "                        <td id=\"T_fb529_row1_col4\" class=\"data row1 col4\" >35.036200</td>\n",
       "                        <td id=\"T_fb529_row1_col5\" class=\"data row1 col5\" >nan</td>\n",
       "                        <td id=\"T_fb529_row1_col6\" class=\"data row1 col6\" >nan</td>\n",
       "                        <td id=\"T_fb529_row1_col7\" class=\"data row1 col7\" >nan</td>\n",
       "                        <td id=\"T_fb529_row1_col8\" class=\"data row1 col8\" >nan</td>\n",
       "                        <td id=\"T_fb529_row1_col9\" class=\"data row1 col9\" >nan</td>\n",
       "                        <td id=\"T_fb529_row1_col10\" class=\"data row1 col10\" >D2</td>\n",
       "            </tr>\n",
       "            <tr>\n",
       "                        <th id=\"T_fb529_level0_row2\" class=\"row_heading level0 row2\" >38</th>\n",
       "                        <td id=\"T_fb529_row2_col0\" class=\"data row2 col0\" >0.022800</td>\n",
       "                        <td id=\"T_fb529_row2_col1\" class=\"data row2 col1\" >35.047600</td>\n",
       "                        <td id=\"T_fb529_row2_col2\" class=\"data row2 col2\" >SBEND</td>\n",
       "                        <td id=\"T_fb529_row2_col3\" class=\"data row2 col3\" >BM2D2R1_4p00_deg</td>\n",
       "                        <td id=\"T_fb529_row2_col4\" class=\"data row2 col4\" >35.047600</td>\n",
       "                        <td id=\"T_fb529_row2_col5\" class=\"data row2 col5\" >0.005236</td>\n",
       "                        <td id=\"T_fb529_row2_col6\" class=\"data row2 col6\" >0.000000</td>\n",
       "                        <td id=\"T_fb529_row2_col7\" class=\"data row2 col7\" >0.000000</td>\n",
       "                        <td id=\"T_fb529_row2_col8\" class=\"data row2 col8\" >nan</td>\n",
       "                        <td id=\"T_fb529_row2_col9\" class=\"data row2 col9\" >nan</td>\n",
       "                        <td id=\"T_fb529_row2_col10\" class=\"data row2 col10\" >D2</td>\n",
       "            </tr>\n",
       "            <tr>\n",
       "                        <th id=\"T_fb529_level0_row3\" class=\"row_heading level0 row3\" >39</th>\n",
       "                        <td id=\"T_fb529_row3_col0\" class=\"data row3 col0\" >0.000000</td>\n",
       "                        <td id=\"T_fb529_row3_col1\" class=\"data row3 col1\" >35.059000</td>\n",
       "                        <td id=\"T_fb529_row3_col2\" class=\"data row3 col2\" >MARKER</td>\n",
       "                        <td id=\"T_fb529_row3_col3\" class=\"data row3 col3\" >MBEAMPORT_2A2</td>\n",
       "                        <td id=\"T_fb529_row3_col4\" class=\"data row3 col4\" >35.059000</td>\n",
       "                        <td id=\"T_fb529_row3_col5\" class=\"data row3 col5\" >nan</td>\n",
       "                        <td id=\"T_fb529_row3_col6\" class=\"data row3 col6\" >nan</td>\n",
       "                        <td id=\"T_fb529_row3_col7\" class=\"data row3 col7\" >nan</td>\n",
       "                        <td id=\"T_fb529_row3_col8\" class=\"data row3 col8\" >nan</td>\n",
       "                        <td id=\"T_fb529_row3_col9\" class=\"data row3 col9\" >nan</td>\n",
       "                        <td id=\"T_fb529_row3_col10\" class=\"data row3 col10\" >D2</td>\n",
       "            </tr>\n",
       "            <tr>\n",
       "                        <th id=\"T_fb529_level0_row4\" class=\"row_heading level0 row4\" >40</th>\n",
       "                        <td id=\"T_fb529_row4_col0\" class=\"data row4 col0\" >0.007600</td>\n",
       "                        <td id=\"T_fb529_row4_col1\" class=\"data row4 col1\" >35.062800</td>\n",
       "                        <td id=\"T_fb529_row4_col2\" class=\"data row4 col2\" >SBEND</td>\n",
       "                        <td id=\"T_fb529_row4_col3\" class=\"data row4 col3\" >BM2D2R1_4p10_deg</td>\n",
       "                        <td id=\"T_fb529_row4_col4\" class=\"data row4 col4\" >35.062800</td>\n",
       "                        <td id=\"T_fb529_row4_col5\" class=\"data row4 col5\" >0.001745</td>\n",
       "                        <td id=\"T_fb529_row4_col6\" class=\"data row4 col6\" >0.000000</td>\n",
       "                        <td id=\"T_fb529_row4_col7\" class=\"data row4 col7\" >0.000000</td>\n",
       "                        <td id=\"T_fb529_row4_col8\" class=\"data row4 col8\" >nan</td>\n",
       "                        <td id=\"T_fb529_row4_col9\" class=\"data row4 col9\" >nan</td>\n",
       "                        <td id=\"T_fb529_row4_col10\" class=\"data row4 col10\" >D2</td>\n",
       "            </tr>\n",
       "            <tr>\n",
       "                        <th id=\"T_fb529_level0_row5\" class=\"row_heading level0 row5\" >41</th>\n",
       "                        <td id=\"T_fb529_row5_col0\" class=\"data row5 col0\" >0.000000</td>\n",
       "                        <td id=\"T_fb529_row5_col1\" class=\"data row5 col1\" >35.066600</td>\n",
       "                        <td id=\"T_fb529_row5_col2\" class=\"data row5 col2\" >MARKER</td>\n",
       "                        <td id=\"T_fb529_row5_col3\" class=\"data row5 col3\" >MBEAMPORT_2A3</td>\n",
       "                        <td id=\"T_fb529_row5_col4\" class=\"data row5 col4\" >35.066600</td>\n",
       "                        <td id=\"T_fb529_row5_col5\" class=\"data row5 col5\" >nan</td>\n",
       "                        <td id=\"T_fb529_row5_col6\" class=\"data row5 col6\" >nan</td>\n",
       "                        <td id=\"T_fb529_row5_col7\" class=\"data row5 col7\" >nan</td>\n",
       "                        <td id=\"T_fb529_row5_col8\" class=\"data row5 col8\" >nan</td>\n",
       "                        <td id=\"T_fb529_row5_col9\" class=\"data row5 col9\" >nan</td>\n",
       "                        <td id=\"T_fb529_row5_col10\" class=\"data row5 col10\" >D2</td>\n",
       "            </tr>\n",
       "            <tr>\n",
       "                        <th id=\"T_fb529_level0_row6\" class=\"row_heading level0 row6\" >42</th>\n",
       "                        <td id=\"T_fb529_row6_col0\" class=\"data row6 col0\" >0.015200</td>\n",
       "                        <td id=\"T_fb529_row6_col1\" class=\"data row6 col1\" >35.074200</td>\n",
       "                        <td id=\"T_fb529_row6_col2\" class=\"data row6 col2\" >SBEND</td>\n",
       "                        <td id=\"T_fb529_row6_col3\" class=\"data row6 col3\" >BM2D2R1_4p30_deg</td>\n",
       "                        <td id=\"T_fb529_row6_col4\" class=\"data row6 col4\" >35.074200</td>\n",
       "                        <td id=\"T_fb529_row6_col5\" class=\"data row6 col5\" >0.003491</td>\n",
       "                        <td id=\"T_fb529_row6_col6\" class=\"data row6 col6\" >0.000000</td>\n",
       "                        <td id=\"T_fb529_row6_col7\" class=\"data row6 col7\" >0.000000</td>\n",
       "                        <td id=\"T_fb529_row6_col8\" class=\"data row6 col8\" >nan</td>\n",
       "                        <td id=\"T_fb529_row6_col9\" class=\"data row6 col9\" >nan</td>\n",
       "                        <td id=\"T_fb529_row6_col10\" class=\"data row6 col10\" >D2</td>\n",
       "            </tr>\n",
       "            <tr>\n",
       "                        <th id=\"T_fb529_level0_row7\" class=\"row_heading level0 row7\" >43</th>\n",
       "                        <td id=\"T_fb529_row7_col0\" class=\"data row7 col0\" >0.000000</td>\n",
       "                        <td id=\"T_fb529_row7_col1\" class=\"data row7 col1\" >35.081800</td>\n",
       "                        <td id=\"T_fb529_row7_col2\" class=\"data row7 col2\" >MARKER</td>\n",
       "                        <td id=\"T_fb529_row7_col3\" class=\"data row7 col3\" >MBEAMPORT_2A4</td>\n",
       "                        <td id=\"T_fb529_row7_col4\" class=\"data row7 col4\" >35.081800</td>\n",
       "                        <td id=\"T_fb529_row7_col5\" class=\"data row7 col5\" >nan</td>\n",
       "                        <td id=\"T_fb529_row7_col6\" class=\"data row7 col6\" >nan</td>\n",
       "                        <td id=\"T_fb529_row7_col7\" class=\"data row7 col7\" >nan</td>\n",
       "                        <td id=\"T_fb529_row7_col8\" class=\"data row7 col8\" >nan</td>\n",
       "                        <td id=\"T_fb529_row7_col9\" class=\"data row7 col9\" >nan</td>\n",
       "                        <td id=\"T_fb529_row7_col10\" class=\"data row7 col10\" >D2</td>\n",
       "            </tr>\n",
       "            <tr>\n",
       "                        <th id=\"T_fb529_level0_row8\" class=\"row_heading level0 row8\" >44</th>\n",
       "                        <td id=\"T_fb529_row8_col0\" class=\"data row8 col0\" >0.100700</td>\n",
       "                        <td id=\"T_fb529_row8_col1\" class=\"data row8 col1\" >35.132150</td>\n",
       "                        <td id=\"T_fb529_row8_col2\" class=\"data row8 col2\" >SBEND</td>\n",
       "                        <td id=\"T_fb529_row8_col3\" class=\"data row8 col3\" >BM2D2R1_5p62_deg</td>\n",
       "                        <td id=\"T_fb529_row8_col4\" class=\"data row8 col4\" >35.132150</td>\n",
       "                        <td id=\"T_fb529_row8_col5\" class=\"data row8 col5\" >0.023126</td>\n",
       "                        <td id=\"T_fb529_row8_col6\" class=\"data row8 col6\" >0.000000</td>\n",
       "                        <td id=\"T_fb529_row8_col7\" class=\"data row8 col7\" >0.000000</td>\n",
       "                        <td id=\"T_fb529_row8_col8\" class=\"data row8 col8\" >nan</td>\n",
       "                        <td id=\"T_fb529_row8_col9\" class=\"data row8 col9\" >nan</td>\n",
       "                        <td id=\"T_fb529_row8_col10\" class=\"data row8 col10\" >D2</td>\n",
       "            </tr>\n",
       "            <tr>\n",
       "                        <th id=\"T_fb529_level0_row9\" class=\"row_heading level0 row9\" >45</th>\n",
       "                        <td id=\"T_fb529_row9_col0\" class=\"data row9 col0\" >0.000000</td>\n",
       "                        <td id=\"T_fb529_row9_col1\" class=\"data row9 col1\" >35.182500</td>\n",
       "                        <td id=\"T_fb529_row9_col2\" class=\"data row9 col2\" >MARKER</td>\n",
       "                        <td id=\"T_fb529_row9_col3\" class=\"data row9 col3\" >MBM2D2R_MIDDLE</td>\n",
       "                        <td id=\"T_fb529_row9_col4\" class=\"data row9 col4\" >35.182500</td>\n",
       "                        <td id=\"T_fb529_row9_col5\" class=\"data row9 col5\" >nan</td>\n",
       "                        <td id=\"T_fb529_row9_col6\" class=\"data row9 col6\" >nan</td>\n",
       "                        <td id=\"T_fb529_row9_col7\" class=\"data row9 col7\" >nan</td>\n",
       "                        <td id=\"T_fb529_row9_col8\" class=\"data row9 col8\" >nan</td>\n",
       "                        <td id=\"T_fb529_row9_col9\" class=\"data row9 col9\" >nan</td>\n",
       "                        <td id=\"T_fb529_row9_col10\" class=\"data row9 col10\" >D2</td>\n",
       "            </tr>\n",
       "            <tr>\n",
       "                        <th id=\"T_fb529_level0_row10\" class=\"row_heading level0 row10\" >46</th>\n",
       "                        <td id=\"T_fb529_row10_col0\" class=\"data row10 col0\" >0.081700</td>\n",
       "                        <td id=\"T_fb529_row10_col1\" class=\"data row10 col1\" >35.223350</td>\n",
       "                        <td id=\"T_fb529_row10_col2\" class=\"data row10 col2\" >SBEND</td>\n",
       "                        <td id=\"T_fb529_row10_col3\" class=\"data row10 col3\" >BM2D2R2_6p70_deg</td>\n",
       "                        <td id=\"T_fb529_row10_col4\" class=\"data row10 col4\" >35.223350</td>\n",
       "                        <td id=\"T_fb529_row10_col5\" class=\"data row10 col5\" >0.018762</td>\n",
       "                        <td id=\"T_fb529_row10_col6\" class=\"data row10 col6\" >0.000000</td>\n",
       "                        <td id=\"T_fb529_row10_col7\" class=\"data row10 col7\" >0.000000</td>\n",
       "                        <td id=\"T_fb529_row10_col8\" class=\"data row10 col8\" >nan</td>\n",
       "                        <td id=\"T_fb529_row10_col9\" class=\"data row10 col9\" >nan</td>\n",
       "                        <td id=\"T_fb529_row10_col10\" class=\"data row10 col10\" >D2</td>\n",
       "            </tr>\n",
       "            <tr>\n",
       "                        <th id=\"T_fb529_level0_row11\" class=\"row_heading level0 row11\" >47</th>\n",
       "                        <td id=\"T_fb529_row11_col0\" class=\"data row11 col0\" >0.000000</td>\n",
       "                        <td id=\"T_fb529_row11_col1\" class=\"data row11 col1\" >35.264200</td>\n",
       "                        <td id=\"T_fb529_row11_col2\" class=\"data row11 col2\" >MARKER</td>\n",
       "                        <td id=\"T_fb529_row11_col3\" class=\"data row11 col3\" >MBEAMPORT_2B1</td>\n",
       "                        <td id=\"T_fb529_row11_col4\" class=\"data row11 col4\" >35.264200</td>\n",
       "                        <td id=\"T_fb529_row11_col5\" class=\"data row11 col5\" >nan</td>\n",
       "                        <td id=\"T_fb529_row11_col6\" class=\"data row11 col6\" >nan</td>\n",
       "                        <td id=\"T_fb529_row11_col7\" class=\"data row11 col7\" >nan</td>\n",
       "                        <td id=\"T_fb529_row11_col8\" class=\"data row11 col8\" >nan</td>\n",
       "                        <td id=\"T_fb529_row11_col9\" class=\"data row11 col9\" >nan</td>\n",
       "                        <td id=\"T_fb529_row11_col10\" class=\"data row11 col10\" >D2</td>\n",
       "            </tr>\n",
       "            <tr>\n",
       "                        <th id=\"T_fb529_level0_row12\" class=\"row_heading level0 row12\" >48</th>\n",
       "                        <td id=\"T_fb529_row12_col0\" class=\"data row12 col0\" >0.193800</td>\n",
       "                        <td id=\"T_fb529_row12_col1\" class=\"data row12 col1\" >35.361100</td>\n",
       "                        <td id=\"T_fb529_row12_col2\" class=\"data row12 col2\" >SBEND</td>\n",
       "                        <td id=\"T_fb529_row12_col3\" class=\"data row12 col3\" >BM2D2R2_9p25_deg</td>\n",
       "                        <td id=\"T_fb529_row12_col4\" class=\"data row12 col4\" >35.361100</td>\n",
       "                        <td id=\"T_fb529_row12_col5\" class=\"data row12 col5\" >0.044506</td>\n",
       "                        <td id=\"T_fb529_row12_col6\" class=\"data row12 col6\" >0.000000</td>\n",
       "                        <td id=\"T_fb529_row12_col7\" class=\"data row12 col7\" >0.000000</td>\n",
       "                        <td id=\"T_fb529_row12_col8\" class=\"data row12 col8\" >nan</td>\n",
       "                        <td id=\"T_fb529_row12_col9\" class=\"data row12 col9\" >nan</td>\n",
       "                        <td id=\"T_fb529_row12_col10\" class=\"data row12 col10\" >D2</td>\n",
       "            </tr>\n",
       "            <tr>\n",
       "                        <th id=\"T_fb529_level0_row13\" class=\"row_heading level0 row13\" >49</th>\n",
       "                        <td id=\"T_fb529_row13_col0\" class=\"data row13 col0\" >0.000000</td>\n",
       "                        <td id=\"T_fb529_row13_col1\" class=\"data row13 col1\" >35.458000</td>\n",
       "                        <td id=\"T_fb529_row13_col2\" class=\"data row13 col2\" >MARKER</td>\n",
       "                        <td id=\"T_fb529_row13_col3\" class=\"data row13 col3\" >MBEAMPORT_2B2</td>\n",
       "                        <td id=\"T_fb529_row13_col4\" class=\"data row13 col4\" >35.458000</td>\n",
       "                        <td id=\"T_fb529_row13_col5\" class=\"data row13 col5\" >nan</td>\n",
       "                        <td id=\"T_fb529_row13_col6\" class=\"data row13 col6\" >nan</td>\n",
       "                        <td id=\"T_fb529_row13_col7\" class=\"data row13 col7\" >nan</td>\n",
       "                        <td id=\"T_fb529_row13_col8\" class=\"data row13 col8\" >nan</td>\n",
       "                        <td id=\"T_fb529_row13_col9\" class=\"data row13 col9\" >nan</td>\n",
       "                        <td id=\"T_fb529_row13_col10\" class=\"data row13 col10\" >D2</td>\n",
       "            </tr>\n",
       "            <tr>\n",
       "                        <th id=\"T_fb529_level0_row14\" class=\"row_heading level0 row14\" >50</th>\n",
       "                        <td id=\"T_fb529_row14_col0\" class=\"data row14 col0\" >0.152000</td>\n",
       "                        <td id=\"T_fb529_row14_col1\" class=\"data row14 col1\" >35.534000</td>\n",
       "                        <td id=\"T_fb529_row14_col2\" class=\"data row14 col2\" >SBEND</td>\n",
       "                        <td id=\"T_fb529_row14_col3\" class=\"data row14 col3\" >BM2D2R2_11p25_deg</td>\n",
       "                        <td id=\"T_fb529_row14_col4\" class=\"data row14 col4\" >35.534000</td>\n",
       "                        <td id=\"T_fb529_row14_col5\" class=\"data row14 col5\" >0.034907</td>\n",
       "                        <td id=\"T_fb529_row14_col6\" class=\"data row14 col6\" >0.000000</td>\n",
       "                        <td id=\"T_fb529_row14_col7\" class=\"data row14 col7\" >0.098175</td>\n",
       "                        <td id=\"T_fb529_row14_col8\" class=\"data row14 col8\" >nan</td>\n",
       "                        <td id=\"T_fb529_row14_col9\" class=\"data row14 col9\" >nan</td>\n",
       "                        <td id=\"T_fb529_row14_col10\" class=\"data row14 col10\" >D2</td>\n",
       "            </tr>\n",
       "    </tbody></table>"
      ],
      "text/plain": [
       "<pandas.io.formats.style.Styler at 0x7fcd94f5c520>"
      ]
     },
     "execution_count": 64,
     "metadata": {},
     "output_type": "execute_result"
    }
   ],
   "source": [
    "# highlighting some beamports - visual checking\n",
    "from latticeadaptor.utils import highlight_cells, highlight_row\n",
    "\n",
    "dfbeamportssec.loc[dfbeamportssec.sector==\"D2\"][-15:].style.apply(\n",
    "    highlight_row,_list=[\"MBEAMPORT_2A1\",\"MBEAMPORT_2A3\",\"MBEAMPORT_2A4\"], column=[\"name\"],axis=1\n",
    ").apply(highlight_row,_list=[\"BM2D2R1_3p70_deg\",\"BM2D2R1_4p10_deg\",\"BM2D2R1_4p30_deg\"], column=[\"name\"],color=\"orange\",axis=1)"
   ]
  },
  {
   "cell_type": "code",
   "execution_count": 65,
   "metadata": {},
   "outputs": [
    {
     "data": {
      "text/html": [
       "<style  type=\"text/css\" >\n",
       "#T_f7f3c_row1_col3,#T_f7f3c_row5_col3,#T_f7f3c_row7_col3{\n",
       "            background-color:  lightgreen;\n",
       "        }</style><table id=\"T_f7f3c_\" ><thead>    <tr>        <th class=\"blank level0\" ></th>        <th class=\"col_heading level0 col0\" >L</th>        <th class=\"col_heading level0 col1\" >at</th>        <th class=\"col_heading level0 col2\" >family</th>        <th class=\"col_heading level0 col3\" >name</th>        <th class=\"col_heading level0 col4\" >pos</th>        <th class=\"col_heading level0 col5\" >ANGLE</th>        <th class=\"col_heading level0 col6\" >E1</th>        <th class=\"col_heading level0 col7\" >E2</th>        <th class=\"col_heading level0 col8\" >K1</th>        <th class=\"col_heading level0 col9\" >K2</th>    </tr></thead><tbody>\n",
       "                <tr>\n",
       "                        <th id=\"T_f7f3c_level0_row0\" class=\"row_heading level0 row0\" >36</th>\n",
       "                        <td id=\"T_f7f3c_row0_col0\" class=\"data row0 col0\" >0.281200</td>\n",
       "                        <td id=\"T_f7f3c_row0_col1\" class=\"data row0 col1\" >34.895600</td>\n",
       "                        <td id=\"T_f7f3c_row0_col2\" class=\"data row0 col2\" >SBEND</td>\n",
       "                        <td id=\"T_f7f3c_row0_col3\" class=\"data row0 col3\" >BM2D2R1_3p70_deg</td>\n",
       "                        <td id=\"T_f7f3c_row0_col4\" class=\"data row0 col4\" >34.895600</td>\n",
       "                        <td id=\"T_f7f3c_row0_col5\" class=\"data row0 col5\" >0.064577</td>\n",
       "                        <td id=\"T_f7f3c_row0_col6\" class=\"data row0 col6\" >0.098175</td>\n",
       "                        <td id=\"T_f7f3c_row0_col7\" class=\"data row0 col7\" >0.000000</td>\n",
       "                        <td id=\"T_f7f3c_row0_col8\" class=\"data row0 col8\" >nan</td>\n",
       "                        <td id=\"T_f7f3c_row0_col9\" class=\"data row0 col9\" >nan</td>\n",
       "            </tr>\n",
       "            <tr>\n",
       "                        <th id=\"T_f7f3c_level0_row1\" class=\"row_heading level0 row1\" >37</th>\n",
       "                        <td id=\"T_f7f3c_row1_col0\" class=\"data row1 col0\" >0.000000</td>\n",
       "                        <td id=\"T_f7f3c_row1_col1\" class=\"data row1 col1\" >35.036200</td>\n",
       "                        <td id=\"T_f7f3c_row1_col2\" class=\"data row1 col2\" >MARKER</td>\n",
       "                        <td id=\"T_f7f3c_row1_col3\" class=\"data row1 col3\" >M_PINHOLE3</td>\n",
       "                        <td id=\"T_f7f3c_row1_col4\" class=\"data row1 col4\" >35.036200</td>\n",
       "                        <td id=\"T_f7f3c_row1_col5\" class=\"data row1 col5\" >nan</td>\n",
       "                        <td id=\"T_f7f3c_row1_col6\" class=\"data row1 col6\" >nan</td>\n",
       "                        <td id=\"T_f7f3c_row1_col7\" class=\"data row1 col7\" >nan</td>\n",
       "                        <td id=\"T_f7f3c_row1_col8\" class=\"data row1 col8\" >nan</td>\n",
       "                        <td id=\"T_f7f3c_row1_col9\" class=\"data row1 col9\" >nan</td>\n",
       "            </tr>\n",
       "            <tr>\n",
       "                        <th id=\"T_f7f3c_level0_row2\" class=\"row_heading level0 row2\" >38</th>\n",
       "                        <td id=\"T_f7f3c_row2_col0\" class=\"data row2 col0\" >0.022800</td>\n",
       "                        <td id=\"T_f7f3c_row2_col1\" class=\"data row2 col1\" >35.047600</td>\n",
       "                        <td id=\"T_f7f3c_row2_col2\" class=\"data row2 col2\" >SBEND</td>\n",
       "                        <td id=\"T_f7f3c_row2_col3\" class=\"data row2 col3\" >BM2D2R1_4p00_deg</td>\n",
       "                        <td id=\"T_f7f3c_row2_col4\" class=\"data row2 col4\" >35.047600</td>\n",
       "                        <td id=\"T_f7f3c_row2_col5\" class=\"data row2 col5\" >0.005236</td>\n",
       "                        <td id=\"T_f7f3c_row2_col6\" class=\"data row2 col6\" >0.000000</td>\n",
       "                        <td id=\"T_f7f3c_row2_col7\" class=\"data row2 col7\" >0.000000</td>\n",
       "                        <td id=\"T_f7f3c_row2_col8\" class=\"data row2 col8\" >nan</td>\n",
       "                        <td id=\"T_f7f3c_row2_col9\" class=\"data row2 col9\" >nan</td>\n",
       "            </tr>\n",
       "            <tr>\n",
       "                        <th id=\"T_f7f3c_level0_row3\" class=\"row_heading level0 row3\" >39</th>\n",
       "                        <td id=\"T_f7f3c_row3_col0\" class=\"data row3 col0\" >0.000000</td>\n",
       "                        <td id=\"T_f7f3c_row3_col1\" class=\"data row3 col1\" >35.059000</td>\n",
       "                        <td id=\"T_f7f3c_row3_col2\" class=\"data row3 col2\" >MARKER</td>\n",
       "                        <td id=\"T_f7f3c_row3_col3\" class=\"data row3 col3\" >MBEAMPORT_2A2</td>\n",
       "                        <td id=\"T_f7f3c_row3_col4\" class=\"data row3 col4\" >35.059000</td>\n",
       "                        <td id=\"T_f7f3c_row3_col5\" class=\"data row3 col5\" >nan</td>\n",
       "                        <td id=\"T_f7f3c_row3_col6\" class=\"data row3 col6\" >nan</td>\n",
       "                        <td id=\"T_f7f3c_row3_col7\" class=\"data row3 col7\" >nan</td>\n",
       "                        <td id=\"T_f7f3c_row3_col8\" class=\"data row3 col8\" >nan</td>\n",
       "                        <td id=\"T_f7f3c_row3_col9\" class=\"data row3 col9\" >nan</td>\n",
       "            </tr>\n",
       "            <tr>\n",
       "                        <th id=\"T_f7f3c_level0_row4\" class=\"row_heading level0 row4\" >40</th>\n",
       "                        <td id=\"T_f7f3c_row4_col0\" class=\"data row4 col0\" >0.007600</td>\n",
       "                        <td id=\"T_f7f3c_row4_col1\" class=\"data row4 col1\" >35.062800</td>\n",
       "                        <td id=\"T_f7f3c_row4_col2\" class=\"data row4 col2\" >SBEND</td>\n",
       "                        <td id=\"T_f7f3c_row4_col3\" class=\"data row4 col3\" >BM2D2R1_4p10_deg</td>\n",
       "                        <td id=\"T_f7f3c_row4_col4\" class=\"data row4 col4\" >35.062800</td>\n",
       "                        <td id=\"T_f7f3c_row4_col5\" class=\"data row4 col5\" >0.001745</td>\n",
       "                        <td id=\"T_f7f3c_row4_col6\" class=\"data row4 col6\" >0.000000</td>\n",
       "                        <td id=\"T_f7f3c_row4_col7\" class=\"data row4 col7\" >0.000000</td>\n",
       "                        <td id=\"T_f7f3c_row4_col8\" class=\"data row4 col8\" >nan</td>\n",
       "                        <td id=\"T_f7f3c_row4_col9\" class=\"data row4 col9\" >nan</td>\n",
       "            </tr>\n",
       "            <tr>\n",
       "                        <th id=\"T_f7f3c_level0_row5\" class=\"row_heading level0 row5\" >41</th>\n",
       "                        <td id=\"T_f7f3c_row5_col0\" class=\"data row5 col0\" >0.000000</td>\n",
       "                        <td id=\"T_f7f3c_row5_col1\" class=\"data row5 col1\" >35.066600</td>\n",
       "                        <td id=\"T_f7f3c_row5_col2\" class=\"data row5 col2\" >MARKER</td>\n",
       "                        <td id=\"T_f7f3c_row5_col3\" class=\"data row5 col3\" >M_OLD_STREAK_CAMERA</td>\n",
       "                        <td id=\"T_f7f3c_row5_col4\" class=\"data row5 col4\" >35.066600</td>\n",
       "                        <td id=\"T_f7f3c_row5_col5\" class=\"data row5 col5\" >nan</td>\n",
       "                        <td id=\"T_f7f3c_row5_col6\" class=\"data row5 col6\" >nan</td>\n",
       "                        <td id=\"T_f7f3c_row5_col7\" class=\"data row5 col7\" >nan</td>\n",
       "                        <td id=\"T_f7f3c_row5_col8\" class=\"data row5 col8\" >nan</td>\n",
       "                        <td id=\"T_f7f3c_row5_col9\" class=\"data row5 col9\" >nan</td>\n",
       "            </tr>\n",
       "            <tr>\n",
       "                        <th id=\"T_f7f3c_level0_row6\" class=\"row_heading level0 row6\" >42</th>\n",
       "                        <td id=\"T_f7f3c_row6_col0\" class=\"data row6 col0\" >0.015200</td>\n",
       "                        <td id=\"T_f7f3c_row6_col1\" class=\"data row6 col1\" >35.074200</td>\n",
       "                        <td id=\"T_f7f3c_row6_col2\" class=\"data row6 col2\" >SBEND</td>\n",
       "                        <td id=\"T_f7f3c_row6_col3\" class=\"data row6 col3\" >BM2D2R1_4p30_deg</td>\n",
       "                        <td id=\"T_f7f3c_row6_col4\" class=\"data row6 col4\" >35.074200</td>\n",
       "                        <td id=\"T_f7f3c_row6_col5\" class=\"data row6 col5\" >0.003491</td>\n",
       "                        <td id=\"T_f7f3c_row6_col6\" class=\"data row6 col6\" >0.000000</td>\n",
       "                        <td id=\"T_f7f3c_row6_col7\" class=\"data row6 col7\" >0.000000</td>\n",
       "                        <td id=\"T_f7f3c_row6_col8\" class=\"data row6 col8\" >nan</td>\n",
       "                        <td id=\"T_f7f3c_row6_col9\" class=\"data row6 col9\" >nan</td>\n",
       "            </tr>\n",
       "            <tr>\n",
       "                        <th id=\"T_f7f3c_level0_row7\" class=\"row_heading level0 row7\" >43</th>\n",
       "                        <td id=\"T_f7f3c_row7_col0\" class=\"data row7 col0\" >0.000000</td>\n",
       "                        <td id=\"T_f7f3c_row7_col1\" class=\"data row7 col1\" >35.081800</td>\n",
       "                        <td id=\"T_f7f3c_row7_col2\" class=\"data row7 col2\" >MARKER</td>\n",
       "                        <td id=\"T_f7f3c_row7_col3\" class=\"data row7 col3\" >M_ADP_FILL_PATTERN</td>\n",
       "                        <td id=\"T_f7f3c_row7_col4\" class=\"data row7 col4\" >35.081800</td>\n",
       "                        <td id=\"T_f7f3c_row7_col5\" class=\"data row7 col5\" >nan</td>\n",
       "                        <td id=\"T_f7f3c_row7_col6\" class=\"data row7 col6\" >nan</td>\n",
       "                        <td id=\"T_f7f3c_row7_col7\" class=\"data row7 col7\" >nan</td>\n",
       "                        <td id=\"T_f7f3c_row7_col8\" class=\"data row7 col8\" >nan</td>\n",
       "                        <td id=\"T_f7f3c_row7_col9\" class=\"data row7 col9\" >nan</td>\n",
       "            </tr>\n",
       "            <tr>\n",
       "                        <th id=\"T_f7f3c_level0_row8\" class=\"row_heading level0 row8\" >44</th>\n",
       "                        <td id=\"T_f7f3c_row8_col0\" class=\"data row8 col0\" >0.100700</td>\n",
       "                        <td id=\"T_f7f3c_row8_col1\" class=\"data row8 col1\" >35.132150</td>\n",
       "                        <td id=\"T_f7f3c_row8_col2\" class=\"data row8 col2\" >SBEND</td>\n",
       "                        <td id=\"T_f7f3c_row8_col3\" class=\"data row8 col3\" >BM2D2R1_5p62_deg</td>\n",
       "                        <td id=\"T_f7f3c_row8_col4\" class=\"data row8 col4\" >35.132150</td>\n",
       "                        <td id=\"T_f7f3c_row8_col5\" class=\"data row8 col5\" >0.023126</td>\n",
       "                        <td id=\"T_f7f3c_row8_col6\" class=\"data row8 col6\" >0.000000</td>\n",
       "                        <td id=\"T_f7f3c_row8_col7\" class=\"data row8 col7\" >0.000000</td>\n",
       "                        <td id=\"T_f7f3c_row8_col8\" class=\"data row8 col8\" >nan</td>\n",
       "                        <td id=\"T_f7f3c_row8_col9\" class=\"data row8 col9\" >nan</td>\n",
       "            </tr>\n",
       "            <tr>\n",
       "                        <th id=\"T_f7f3c_level0_row9\" class=\"row_heading level0 row9\" >45</th>\n",
       "                        <td id=\"T_f7f3c_row9_col0\" class=\"data row9 col0\" >0.000000</td>\n",
       "                        <td id=\"T_f7f3c_row9_col1\" class=\"data row9 col1\" >35.182500</td>\n",
       "                        <td id=\"T_f7f3c_row9_col2\" class=\"data row9 col2\" >MARKER</td>\n",
       "                        <td id=\"T_f7f3c_row9_col3\" class=\"data row9 col3\" >MBM2D2R_MIDDLE</td>\n",
       "                        <td id=\"T_f7f3c_row9_col4\" class=\"data row9 col4\" >35.182500</td>\n",
       "                        <td id=\"T_f7f3c_row9_col5\" class=\"data row9 col5\" >nan</td>\n",
       "                        <td id=\"T_f7f3c_row9_col6\" class=\"data row9 col6\" >nan</td>\n",
       "                        <td id=\"T_f7f3c_row9_col7\" class=\"data row9 col7\" >nan</td>\n",
       "                        <td id=\"T_f7f3c_row9_col8\" class=\"data row9 col8\" >nan</td>\n",
       "                        <td id=\"T_f7f3c_row9_col9\" class=\"data row9 col9\" >nan</td>\n",
       "            </tr>\n",
       "            <tr>\n",
       "                        <th id=\"T_f7f3c_level0_row10\" class=\"row_heading level0 row10\" >46</th>\n",
       "                        <td id=\"T_f7f3c_row10_col0\" class=\"data row10 col0\" >0.081700</td>\n",
       "                        <td id=\"T_f7f3c_row10_col1\" class=\"data row10 col1\" >35.223350</td>\n",
       "                        <td id=\"T_f7f3c_row10_col2\" class=\"data row10 col2\" >SBEND</td>\n",
       "                        <td id=\"T_f7f3c_row10_col3\" class=\"data row10 col3\" >BM2D2R2_6p70_deg</td>\n",
       "                        <td id=\"T_f7f3c_row10_col4\" class=\"data row10 col4\" >35.223350</td>\n",
       "                        <td id=\"T_f7f3c_row10_col5\" class=\"data row10 col5\" >0.018762</td>\n",
       "                        <td id=\"T_f7f3c_row10_col6\" class=\"data row10 col6\" >0.000000</td>\n",
       "                        <td id=\"T_f7f3c_row10_col7\" class=\"data row10 col7\" >0.000000</td>\n",
       "                        <td id=\"T_f7f3c_row10_col8\" class=\"data row10 col8\" >nan</td>\n",
       "                        <td id=\"T_f7f3c_row10_col9\" class=\"data row10 col9\" >nan</td>\n",
       "            </tr>\n",
       "            <tr>\n",
       "                        <th id=\"T_f7f3c_level0_row11\" class=\"row_heading level0 row11\" >47</th>\n",
       "                        <td id=\"T_f7f3c_row11_col0\" class=\"data row11 col0\" >0.000000</td>\n",
       "                        <td id=\"T_f7f3c_row11_col1\" class=\"data row11 col1\" >35.264200</td>\n",
       "                        <td id=\"T_f7f3c_row11_col2\" class=\"data row11 col2\" >MARKER</td>\n",
       "                        <td id=\"T_f7f3c_row11_col3\" class=\"data row11 col3\" >MBEAMPORT_2B1</td>\n",
       "                        <td id=\"T_f7f3c_row11_col4\" class=\"data row11 col4\" >35.264200</td>\n",
       "                        <td id=\"T_f7f3c_row11_col5\" class=\"data row11 col5\" >nan</td>\n",
       "                        <td id=\"T_f7f3c_row11_col6\" class=\"data row11 col6\" >nan</td>\n",
       "                        <td id=\"T_f7f3c_row11_col7\" class=\"data row11 col7\" >nan</td>\n",
       "                        <td id=\"T_f7f3c_row11_col8\" class=\"data row11 col8\" >nan</td>\n",
       "                        <td id=\"T_f7f3c_row11_col9\" class=\"data row11 col9\" >nan</td>\n",
       "            </tr>\n",
       "            <tr>\n",
       "                        <th id=\"T_f7f3c_level0_row12\" class=\"row_heading level0 row12\" >48</th>\n",
       "                        <td id=\"T_f7f3c_row12_col0\" class=\"data row12 col0\" >0.193800</td>\n",
       "                        <td id=\"T_f7f3c_row12_col1\" class=\"data row12 col1\" >35.361100</td>\n",
       "                        <td id=\"T_f7f3c_row12_col2\" class=\"data row12 col2\" >SBEND</td>\n",
       "                        <td id=\"T_f7f3c_row12_col3\" class=\"data row12 col3\" >BM2D2R2_9p25_deg</td>\n",
       "                        <td id=\"T_f7f3c_row12_col4\" class=\"data row12 col4\" >35.361100</td>\n",
       "                        <td id=\"T_f7f3c_row12_col5\" class=\"data row12 col5\" >0.044506</td>\n",
       "                        <td id=\"T_f7f3c_row12_col6\" class=\"data row12 col6\" >0.000000</td>\n",
       "                        <td id=\"T_f7f3c_row12_col7\" class=\"data row12 col7\" >0.000000</td>\n",
       "                        <td id=\"T_f7f3c_row12_col8\" class=\"data row12 col8\" >nan</td>\n",
       "                        <td id=\"T_f7f3c_row12_col9\" class=\"data row12 col9\" >nan</td>\n",
       "            </tr>\n",
       "            <tr>\n",
       "                        <th id=\"T_f7f3c_level0_row13\" class=\"row_heading level0 row13\" >49</th>\n",
       "                        <td id=\"T_f7f3c_row13_col0\" class=\"data row13 col0\" >0.000000</td>\n",
       "                        <td id=\"T_f7f3c_row13_col1\" class=\"data row13 col1\" >35.458000</td>\n",
       "                        <td id=\"T_f7f3c_row13_col2\" class=\"data row13 col2\" >MARKER</td>\n",
       "                        <td id=\"T_f7f3c_row13_col3\" class=\"data row13 col3\" >MBEAMPORT_2B2</td>\n",
       "                        <td id=\"T_f7f3c_row13_col4\" class=\"data row13 col4\" >35.458000</td>\n",
       "                        <td id=\"T_f7f3c_row13_col5\" class=\"data row13 col5\" >nan</td>\n",
       "                        <td id=\"T_f7f3c_row13_col6\" class=\"data row13 col6\" >nan</td>\n",
       "                        <td id=\"T_f7f3c_row13_col7\" class=\"data row13 col7\" >nan</td>\n",
       "                        <td id=\"T_f7f3c_row13_col8\" class=\"data row13 col8\" >nan</td>\n",
       "                        <td id=\"T_f7f3c_row13_col9\" class=\"data row13 col9\" >nan</td>\n",
       "            </tr>\n",
       "    </tbody></table>"
      ],
      "text/plain": [
       "<pandas.io.formats.style.Styler at 0x7fcd94dd5e50>"
      ]
     },
     "execution_count": 65,
     "metadata": {},
     "output_type": "execute_result"
    }
   ],
   "source": [
    "# rename some of the auto-named markers\n",
    "dfbeamports.loc[37, \"name\"] = \"M_PINHOLE3\"\n",
    "dfbeamports.loc[41, \"name\"] = \"M_OLD_STREAK_CAMERA\"\n",
    "dfbeamports.loc[43, \"name\"] = \"M_ADP_FILL_PATTERN\"\n",
    "\n",
    "# check if updated in original seq table\n",
    "dfbeamports[36:50].style.apply(\n",
    "    highlight_cells,\n",
    "    _list=[\"M_PINHOLE3\",\"M_OLD_STREAK_CAMERA\",\"M_ADP_FILL_PATTERN\"],\n",
    "    color=\"lightgreen\")"
   ]
  }
 ],
 "metadata": {
  "kernelspec": {
   "display_name": "Python [conda env:lae]",
   "language": "python",
   "name": "conda-env-lae-py"
  },
  "language_info": {
   "codemirror_mode": {
    "name": "ipython",
    "version": 3
   },
   "file_extension": ".py",
   "mimetype": "text/x-python",
   "name": "python",
   "nbconvert_exporter": "python",
   "pygments_lexer": "ipython3",
   "version": "3.9.5"
  },
  "latex_envs": {
   "LaTeX_envs_menu_present": true,
   "autoclose": false,
   "autocomplete": true,
   "bibliofile": "biblio.bib",
   "cite_by": "apalike",
   "current_citInitial": 1,
   "eqLabelWithNumbers": true,
   "eqNumInitial": 1,
   "hotkeys": {
    "equation": "Ctrl-E",
    "itemize": "Ctrl-I"
   },
   "labels_anchors": false,
   "latex_user_defs": false,
   "report_style_numbering": false,
   "user_envs_cfg": false
  },
  "toc": {
   "base_numbering": 1,
   "nav_menu": {},
   "number_sections": true,
   "sideBar": true,
   "skip_h1_title": false,
   "title_cell": "Table of Contents",
   "title_sidebar": "Contents",
   "toc_cell": false,
   "toc_position": {},
   "toc_section_display": true,
   "toc_window_display": false
  }
 },
 "nbformat": 4,
 "nbformat_minor": 4
}
